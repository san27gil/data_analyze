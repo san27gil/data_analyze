{
  "nbformat": 4,
  "nbformat_minor": 0,
  "metadata": {
    "colab": {
      "name": "Stack_overflow_2021_analysis.ipynb",
      "provenance": []
    },
    "kernelspec": {
      "name": "python3",
      "display_name": "Python 3"
    },
    "language_info": {
      "name": "python"
    }
  },
  "cells": [
    {
      "cell_type": "markdown",
      "source": [
        "# LOAD AND CLEAN THE DATA"
      ],
      "metadata": {
        "id": "wrU-Gapi0Rsv"
      }
    },
    {
      "cell_type": "markdown",
      "source": [
        "**Import the libraries**"
      ],
      "metadata": {
        "id": "mvGq8t4R0Et5"
      }
    },
    {
      "cell_type": "code",
      "execution_count": 1,
      "metadata": {
        "id": "5unh-EY7zp3R"
      },
      "outputs": [],
      "source": [
        "import pandas as pd\n",
        "import numpy as np\n",
        "import matplotlib.pyplot as plt\n",
        "import seaborn as sns "
      ]
    },
    {
      "cell_type": "markdown",
      "source": [
        "**Conect with the csv through Google Drive**"
      ],
      "metadata": {
        "id": "T5ubAM-_0Kuf"
      }
    },
    {
      "cell_type": "code",
      "source": [
        "from google.colab import drive\n",
        "drive.mount('/content/drive')"
      ],
      "metadata": {
        "colab": {
          "base_uri": "https://localhost:8080/"
        },
        "id": "iK28qAJ40AGp",
        "outputId": "9050152a-ba5b-4682-bba4-c1211e06e890"
      },
      "execution_count": 2,
      "outputs": [
        {
          "output_type": "stream",
          "name": "stdout",
          "text": [
            "Mounted at /content/drive\n"
          ]
        }
      ]
    },
    {
      "cell_type": "code",
      "source": [
        "df = pd.read_csv('/content/drive/MyDrive/From Finance to Programming/Proyectos/Stack Overflow - Data Analysis/survey_results_public_2021.csv', index_col=0, thousands='.')"
      ],
      "metadata": {
        "id": "9IxugLb20OXv"
      },
      "execution_count": 3,
      "outputs": []
    },
    {
      "cell_type": "markdown",
      "source": [
        "**Check the table and see how it's organize**"
      ],
      "metadata": {
        "id": "MHiYTLn009jh"
      }
    },
    {
      "cell_type": "code",
      "source": [
        "df.head()"
      ],
      "metadata": {
        "id": "Hj0ZJZ711El-"
      },
      "execution_count": null,
      "outputs": []
    },
    {
      "cell_type": "code",
      "source": [
        "df.shape"
      ],
      "metadata": {
        "id": "-Kr6lcXc1L89"
      },
      "execution_count": null,
      "outputs": []
    },
    {
      "cell_type": "code",
      "source": [
        "df.info()"
      ],
      "metadata": {
        "id": "mFkjqIqv1QWu"
      },
      "execution_count": null,
      "outputs": []
    },
    {
      "cell_type": "markdown",
      "source": [
        "**Clean the data**"
      ],
      "metadata": {
        "id": "jKyjsCgT1e0h"
      }
    },
    {
      "cell_type": "code",
      "source": [
        "df.drop_duplicates(inplace=True)"
      ],
      "metadata": {
        "id": "c-5HGRTU1jON"
      },
      "execution_count": 7,
      "outputs": []
    },
    {
      "cell_type": "code",
      "source": [
        "df.dropna(how='all')"
      ],
      "metadata": {
        "id": "jySEQ4Nf4no2"
      },
      "execution_count": null,
      "outputs": []
    },
    {
      "cell_type": "markdown",
      "source": [
        "**% of null values per column and drop these with more than 55% of null values**"
      ],
      "metadata": {
        "id": "9IuIDTv81yfQ"
      }
    },
    {
      "cell_type": "code",
      "source": [
        "df.isnull().sum()/df.shape[0]"
      ],
      "metadata": {
        "id": "wcAbTg1O1nt-"
      },
      "execution_count": null,
      "outputs": []
    },
    {
      "cell_type": "code",
      "source": [
        "limit = len(df)*0.55\n",
        "df.dropna(thresh=limit, axis=1, inplace=True)"
      ],
      "metadata": {
        "id": "U25ecv8W16zg"
      },
      "execution_count": 10,
      "outputs": []
    },
    {
      "cell_type": "markdown",
      "source": [
        "**Drop these columns that are not relevant for this analysis**"
      ],
      "metadata": {
        "id": "o5h4bsqZ2QhH"
      }
    },
    {
      "cell_type": "code",
      "source": [
        "to_drop = ['Age1stCode', 'OrgSize', 'MiscTechHaveWorkedWith', 'WebframeHaveWorkedWith', 'WebframeWantToWorkWith', 'NEWCollabToolsWantToWorkWith', 'NEWOtherComms', 'Trans', 'Sexuality', 'Ethnicity', 'Accessibility', 'MentalHealth', 'SurveyLength', 'SurveyEase']\n",
        "df.drop(to_drop, inplace=True, axis=1)"
      ],
      "metadata": {
        "id": "F-GEATWY2ZnK"
      },
      "execution_count": 11,
      "outputs": []
    },
    {
      "cell_type": "markdown",
      "source": [
        "**Improve data types.**"
      ],
      "metadata": {
        "id": "ncAoBKF22mRG"
      }
    },
    {
      "cell_type": "code",
      "source": [
        "df.dtypes"
      ],
      "metadata": {
        "id": "tGeFy9c32-p-"
      },
      "execution_count": null,
      "outputs": []
    },
    {
      "cell_type": "code",
      "source": [
        "df['YearsCode'] =  df['YearsCode'].apply(pd.to_numeric, errors='coerce')\n",
        "df['YearsCodePro'] =  df['YearsCodePro'].apply(pd.to_numeric, errors='coerce')"
      ],
      "metadata": {
        "id": "XNNaSs4u2t3a"
      },
      "execution_count": 13,
      "outputs": []
    },
    {
      "cell_type": "code",
      "source": [
        "df.dtypes"
      ],
      "metadata": {
        "id": "OpJlyVK024bC"
      },
      "execution_count": null,
      "outputs": []
    },
    {
      "cell_type": "markdown",
      "source": [
        "**Drop outliers from dataset**"
      ],
      "metadata": {
        "id": "PlGzm9zO3-IR"
      }
    },
    {
      "cell_type": "code",
      "source": [
        "plt.hist(df['CompTotal'])\n",
        "plt.show()"
      ],
      "metadata": {
        "id": "xN2GCe7z4U90"
      },
      "execution_count": null,
      "outputs": []
    },
    {
      "cell_type": "code",
      "source": [
        "Q1 = df['CompTotal'].quantile(0.25)\n",
        "Q3 = df['CompTotal'].quantile(0.75)\n",
        "IQR = Q3 - Q1\n",
        "lower_limit = (Q1 - 1.5 * IQR)\n",
        "upper_limit = (Q3 + 1.5 * IQR)"
      ],
      "metadata": {
        "id": "rlTB2p5E4Bym"
      },
      "execution_count": 16,
      "outputs": []
    },
    {
      "cell_type": "code",
      "source": [
        "df = df[(df['CompTotal'] >= lower_limit) & (df['CompTotal'] <= upper_limit)]"
      ],
      "metadata": {
        "id": "XAz5850l4HyX"
      },
      "execution_count": 17,
      "outputs": []
    },
    {
      "cell_type": "code",
      "source": [
        "plt.hist(df['CompTotal'])\n",
        "plt.show()"
      ],
      "metadata": {
        "id": "PtnvJVQd4byO"
      },
      "execution_count": null,
      "outputs": []
    },
    {
      "cell_type": "code",
      "source": [
        "Q1 = df['ConvertedCompYearly'].quantile(0.25)\n",
        "Q3 = df['ConvertedCompYearly'].quantile(0.75)\n",
        "IQR = Q3 - Q1\n",
        "lower_limit = (Q1 - 1.5 * IQR)\n",
        "upper_limit = (Q3 + 1.5 * IQR)"
      ],
      "metadata": {
        "id": "iGT0COIZ_ULT"
      },
      "execution_count": 19,
      "outputs": []
    },
    {
      "cell_type": "code",
      "source": [
        "df = df[(df['ConvertedCompYearly'] >= lower_limit) & (df['ConvertedCompYearly'] <= upper_limit)]"
      ],
      "metadata": {
        "id": "IUig-gI0_gDE"
      },
      "execution_count": 20,
      "outputs": []
    },
    {
      "cell_type": "markdown",
      "source": [
        "**Improve some group names**"
      ],
      "metadata": {
        "id": "SA-Npaee40p7"
      }
    },
    {
      "cell_type": "code",
      "source": [
        "df.Country.unique()"
      ],
      "metadata": {
        "id": "k-5pS9xu4_S5"
      },
      "execution_count": null,
      "outputs": []
    },
    {
      "cell_type": "code",
      "source": [
        "df['Country'].replace(['United Kingdom of Great Britain and Northern Ireland', 'Russian Federation', 'Hong Kong (S.A.R.)', 'Venezuela, Bolivarian Republic of...', 'Congo, Republic of the...', 'United States of America'], ['UK', 'Russia', 'Hong Kong', 'Venezuela', 'Congo', 'USA'], inplace=True)"
      ],
      "metadata": {
        "id": "G_pvlUT15BdJ",
        "colab": {
          "base_uri": "https://localhost:8080/"
        },
        "outputId": "c9fc8b0d-316b-40d7-bffa-cb10989b817d"
      },
      "execution_count": 22,
      "outputs": [
        {
          "output_type": "stream",
          "name": "stderr",
          "text": [
            "/usr/local/lib/python3.7/dist-packages/pandas/core/generic.py:6619: SettingWithCopyWarning: \n",
            "A value is trying to be set on a copy of a slice from a DataFrame\n",
            "\n",
            "See the caveats in the documentation: https://pandas.pydata.org/pandas-docs/stable/user_guide/indexing.html#returning-a-view-versus-a-copy\n",
            "  return self._update_inplace(result)\n"
          ]
        }
      ]
    },
    {
      "cell_type": "code",
      "source": [
        "df.EdLevel.unique()"
      ],
      "metadata": {
        "colab": {
          "base_uri": "https://localhost:8080/"
        },
        "id": "BLnEUrz_TCXJ",
        "outputId": "85b8cfb7-c537-4579-ba5b-3d8d4c13fcdd"
      },
      "execution_count": 23,
      "outputs": [
        {
          "output_type": "execute_result",
          "data": {
            "text/plain": [
              "array(['Secondary school (e.g. American high school, German Realschule or Gymnasium, etc.)',\n",
              "       'Master’s degree (M.A., M.S., M.Eng., MBA, etc.)',\n",
              "       'Bachelor’s degree (B.A., B.S., B.Eng., etc.)',\n",
              "       'Other doctoral degree (Ph.D., Ed.D., etc.)',\n",
              "       'Some college/university study without earning a degree',\n",
              "       'Professional degree (JD, MD, etc.)',\n",
              "       'Associate degree (A.A., A.S., etc.)', 'Something else',\n",
              "       'Primary/elementary school', nan], dtype=object)"
            ]
          },
          "metadata": {},
          "execution_count": 23
        }
      ]
    },
    {
      "cell_type": "code",
      "source": [
        "df['EdLevel'].replace(['Associate degree (A.A., A.S., etc.)', 'Bachelor’s degree (B.A., B.S., B.Eng., etc.)', 'Master’s degree (M.A., M.S., M.Eng., MBA, etc.)', 'Other doctoral degree (Ph.D., Ed.D., etc.)', 'Professional degree (JD, MD, etc.)', 'Secondary school (e.g. American high school, German Realschule or Gymnasium, etc.)', 'Some college/university study without earning a degree'], ['Associate degree', 'Bachelor’s degree', 'Master’s degree','Other doctoral degree', 'Professional degree', 'Secondary school', 'Studying a degree'], inplace=True)"
      ],
      "metadata": {
        "id": "icKhs_M-5IEH"
      },
      "execution_count": 24,
      "outputs": []
    },
    {
      "cell_type": "code",
      "source": [
        "df['Currency'].replace(['EUR European Euro', 'GBP\\tPound sterling', 'USD\\tUnited States dollar', 'CAD\\tCanadian dollar', 'SEK\\tSwedish krona', 'TRY\\tTurkish lira', 'CHF\\tSwiss franc', 'RUB\\tRussian ruble', 'INR\\tIndian rupee', 'BRL\\tBrazilian real', 'AUD\\tAustralian dollar'],['EUR', 'GBP', 'USD', 'CAD', 'SEK', 'TRY', 'CHF', 'RUB', 'INR', 'BRL', 'AUD'], inplace=True)"
      ],
      "metadata": {
        "id": "bUxTE2Rc5MQb"
      },
      "execution_count": 25,
      "outputs": []
    },
    {
      "cell_type": "code",
      "source": [
        "df['Age'].replace(['18-24 years old', '25-34 years old', '35-44 years old', '45-54 years old', '55-64 years old', '65 years or older', 'Under 18 years old'], ['18-24', '25-34', '35-44', '45-54', '55-64', '>65', '<18'], inplace=True)"
      ],
      "metadata": {
        "id": "HiUfTYVM7DrY"
      },
      "execution_count": 26,
      "outputs": []
    },
    {
      "cell_type": "markdown",
      "source": [
        "# DATA ANALYSIS"
      ],
      "metadata": {
        "id": "vOA4tAHi7dep"
      }
    },
    {
      "cell_type": "markdown",
      "source": [
        "**1. Which countries have the best salaries?**"
      ],
      "metadata": {
        "id": "ITBdOen17h4l"
      }
    },
    {
      "cell_type": "code",
      "source": [
        "df1 = df[['Country', 'ConvertedCompYearly']]"
      ],
      "metadata": {
        "id": "E5WLiVvu8ZzO"
      },
      "execution_count": 27,
      "outputs": []
    },
    {
      "cell_type": "code",
      "source": [
        "df1.dropna(inplace=True)"
      ],
      "metadata": {
        "id": "6J2F1NHn8dSy",
        "colab": {
          "base_uri": "https://localhost:8080/"
        },
        "outputId": "500fae2a-184f-4d20-d1d0-480fb42e67d9"
      },
      "execution_count": 28,
      "outputs": [
        {
          "output_type": "stream",
          "name": "stderr",
          "text": [
            "/usr/local/lib/python3.7/dist-packages/pandas/util/_decorators.py:311: SettingWithCopyWarning: \n",
            "A value is trying to be set on a copy of a slice from a DataFrame\n",
            "\n",
            "See the caveats in the documentation: https://pandas.pydata.org/pandas-docs/stable/user_guide/indexing.html#returning-a-view-versus-a-copy\n",
            "  return func(*args, **kwargs)\n"
          ]
        }
      ]
    },
    {
      "cell_type": "code",
      "source": [
        "filter1 = df1.groupby('Country').mean().sort_values('ConvertedCompYearly', ascending=False)"
      ],
      "metadata": {
        "id": "NszV070w8gSv"
      },
      "execution_count": 63,
      "outputs": []
    },
    {
      "cell_type": "code",
      "source": [
        "graph1 = filter1[:5].plot(kind='bar', title='Top countries by salary', ylim=[80000, 120000], figsize=(10,6),\n",
        "                          fontsize=12, rot=0)\n",
        "\n",
        "plt.show()"
      ],
      "metadata": {
        "id": "_yIxFiRWTEzh"
      },
      "execution_count": null,
      "outputs": []
    },
    {
      "cell_type": "markdown",
      "source": [
        "**2. Graph of the european salaries**"
      ],
      "metadata": {
        "id": "gx3txs6y9MUd"
      }
    },
    {
      "cell_type": "code",
      "source": [
        "list_europe = ['Austria', 'Belgium', 'Bulgaria', 'Croatia', 'Cyprus', 'Czech Republic', \n",
        "               'Denmark', 'Estonia', 'Finland', 'France', 'Germany', 'Greece', 'Hungary',\n",
        "               'Ireland', 'Italy', 'Latvia', 'Lithuania', 'Luxembourg', 'Malta', 'Netherlands', \n",
        "               'Poland', 'Portugal', 'Romania', 'Slovakia', 'Slovenia', 'Spain', 'Sweden']"
      ],
      "metadata": {
        "id": "PcL4gXfP9c2h"
      },
      "execution_count": 30,
      "outputs": []
    },
    {
      "cell_type": "code",
      "source": [
        "filter2 = df1.groupby('Country').mean().sort_values('ConvertedCompYearly', ascending=False).reset_index()"
      ],
      "metadata": {
        "id": "bM7t2lbd9ybs"
      },
      "execution_count": 31,
      "outputs": []
    },
    {
      "cell_type": "code",
      "source": [
        "filter2 = filter2.loc[filter2['Country'].isin(list_europe)]\n"
      ],
      "metadata": {
        "id": "6qAYgiSq97LH"
      },
      "execution_count": 32,
      "outputs": []
    },
    {
      "cell_type": "code",
      "source": [
        "plt.figure(figsize=(20,6))\n",
        "plt.xticks(rotation=90)\n",
        "plt.ylim([20000,90000])\n",
        "\n",
        "plt.bar(filter2.Country, filter2.ConvertedCompYearly, width=0.5)\n",
        "plt.show()"
      ],
      "metadata": {
        "colab": {
          "base_uri": "https://localhost:8080/",
          "height": 444
        },
        "id": "Lh1SEYFn9_y0",
        "outputId": "d4ea438b-327a-4534-acce-12c8e99dc742"
      },
      "execution_count": 33,
      "outputs": [
        {
          "output_type": "display_data",
          "data": {
            "text/plain": [
              "<Figure size 1440x432 with 1 Axes>"
            ],
            "image/png": "[encoded data removed]"
          },
          "metadata": {
            "needs_background": "light"
          }
        }
      ]
    },
    {
      "cell_type": "markdown",
      "source": [
        "**3. Compare how Spain and USA use the differents op. systems**"
      ],
      "metadata": {
        "id": "mURMUUJfAQMK"
      }
    },
    {
      "cell_type": "code",
      "source": [
        "df2 = df[['Country', 'OpSys']]"
      ],
      "metadata": {
        "id": "R3r9gNJfArVB"
      },
      "execution_count": 34,
      "outputs": []
    },
    {
      "cell_type": "code",
      "source": [
        "df2['OpSys'].unique()"
      ],
      "metadata": {
        "colab": {
          "base_uri": "https://localhost:8080/"
        },
        "id": "dCMe4wsXAx6x",
        "outputId": "a0aa80d3-290f-409c-bd4c-328ca2f780e4"
      },
      "execution_count": 35,
      "outputs": [
        {
          "output_type": "execute_result",
          "data": {
            "text/plain": [
              "array(['MacOS', 'Linux-based', 'Windows', 'Other (please specify):',\n",
              "       'BSD', 'Windows Subsystem for Linux (WSL)', nan], dtype=object)"
            ]
          },
          "metadata": {},
          "execution_count": 35
        }
      ]
    },
    {
      "cell_type": "code",
      "source": [
        "df2.shape"
      ],
      "metadata": {
        "id": "5aYsmcG1A0gg",
        "colab": {
          "base_uri": "https://localhost:8080/"
        },
        "outputId": "d1016c4d-87c0-4bd5-c7e7-57516e81326f"
      },
      "execution_count": 36,
      "outputs": [
        {
          "output_type": "execute_result",
          "data": {
            "text/plain": [
              "(38580, 2)"
            ]
          },
          "metadata": {},
          "execution_count": 36
        }
      ]
    },
    {
      "cell_type": "markdown",
      "source": [
        "Drop null values in this new data frame:"
      ],
      "metadata": {
        "id": "6SFM-AhTDEAN"
      }
    },
    {
      "cell_type": "code",
      "source": [
        "df2.dropna(inplace=True)"
      ],
      "metadata": {
        "id": "CMWCLU55A41E",
        "colab": {
          "base_uri": "https://localhost:8080/"
        },
        "outputId": "4fe1f41d-c041-4555-8f45-02c90128f388"
      },
      "execution_count": 37,
      "outputs": [
        {
          "output_type": "stream",
          "name": "stderr",
          "text": [
            "/usr/local/lib/python3.7/dist-packages/pandas/util/_decorators.py:311: SettingWithCopyWarning: \n",
            "A value is trying to be set on a copy of a slice from a DataFrame\n",
            "\n",
            "See the caveats in the documentation: https://pandas.pydata.org/pandas-docs/stable/user_guide/indexing.html#returning-a-view-versus-a-copy\n",
            "  return func(*args, **kwargs)\n"
          ]
        }
      ]
    },
    {
      "cell_type": "code",
      "source": [
        "df2.shape"
      ],
      "metadata": {
        "id": "bxkMRL7KA51a",
        "colab": {
          "base_uri": "https://localhost:8080/"
        },
        "outputId": "05e4810f-f995-49bb-a606-c91d848b4b9c"
      },
      "execution_count": 38,
      "outputs": [
        {
          "output_type": "execute_result",
          "data": {
            "text/plain": [
              "(38566, 2)"
            ]
          },
          "metadata": {},
          "execution_count": 38
        }
      ]
    },
    {
      "cell_type": "markdown",
      "source": [
        "Group by operating system:"
      ],
      "metadata": {
        "id": "cfWok5W4DLGZ"
      }
    },
    {
      "cell_type": "code",
      "source": [
        "windows = df2[(df2['OpSys'] == 'Windows')]\n",
        "mac = df2[(df2['OpSys'] == 'MacOS')]\n",
        "other = df2[(df2['OpSys'] != 'Windows') & (df2['OpSys'] != 'MacOS')]"
      ],
      "metadata": {
        "id": "oM4kLT_VA9Ic"
      },
      "execution_count": 39,
      "outputs": []
    },
    {
      "cell_type": "markdown",
      "source": [
        "Count number of each:"
      ],
      "metadata": {
        "id": "moZHyKfaDRB9"
      }
    },
    {
      "cell_type": "code",
      "source": [
        "win_spa = len(windows[(windows['Country'] == 'Spain')])\n",
        "mac_spa = len(mac[(mac['Country'] == 'Spain')])\n",
        "oth_spa = len(other[(other['Country'] == 'Spain')])\n",
        "win_usa = len(windows[(windows['Country'] == 'USA')])\n",
        "mac_usa = len(mac[(mac['Country'] == 'USA')])\n",
        "oth_usa = len(other[(other['Country'] == 'USA')])"
      ],
      "metadata": {
        "id": "UE-b141_CM5I"
      },
      "execution_count": 40,
      "outputs": []
    },
    {
      "cell_type": "code",
      "source": [
        "fig, axs = plt.subplots(1,2, figsize=(12,8))\n",
        "\n",
        "labels = ['Windows', 'Mac', 'Other']\n",
        "colors = ['#FFD32D', '#008E89', '#EF6D6D']\n",
        "explode = (0.05, 0.05, 0.05)\n",
        "\n",
        "axs[0].pie([win_spa, mac_spa, oth_spa], labels = labels, colors = colors, autopct='%.1f%%',\n",
        "        explode = explode, startangle = 90, wedgeprops = {'edgecolor': 'black'}, shadow=True,)\n",
        "axs[0].set_title('O.S. in Spain', bbox={'facecolor':'0.9' , 'pad': 5})\n",
        "\n",
        "axs[1].pie([win_usa, mac_usa, oth_usa], labels = labels, colors = colors, autopct='%.1f%%',\n",
        "        explode = explode, startangle = 90, wedgeprops = {'edgecolor': 'black'}, shadow=True,)\n",
        "axs[1].set_title('O.S. in USA', bbox={'facecolor':'0.9' , 'pad': 5})\n",
        "\n",
        "\n",
        "plt.show()"
      ],
      "metadata": {
        "id": "ESwuOZ3lCQsO"
      },
      "execution_count": null,
      "outputs": []
    },
    {
      "cell_type": "markdown",
      "source": [
        "**4. Age distribution**"
      ],
      "metadata": {
        "id": "6NO8jnzsDn1U"
      }
    },
    {
      "cell_type": "code",
      "source": [
        "df.Age.value_counts()"
      ],
      "metadata": {
        "id": "aHI1gJIZDvW0",
        "colab": {
          "base_uri": "https://localhost:8080/"
        },
        "outputId": "f7b52786-46d0-487b-a38f-5d25bf7540f0"
      },
      "execution_count": 42,
      "outputs": [
        {
          "output_type": "execute_result",
          "data": {
            "text/plain": [
              "25-34                18891\n",
              "35-44                 9222\n",
              "18-24                 6118\n",
              "45-54                 3038\n",
              "55-64                  958\n",
              ">65                    129\n",
              "<18                     86\n",
              "Prefer not to say       52\n",
              "Name: Age, dtype: int64"
            ]
          },
          "metadata": {},
          "execution_count": 42
        }
      ]
    },
    {
      "cell_type": "code",
      "source": [
        "list_ages = df.Age.value_counts().values"
      ],
      "metadata": {
        "id": "-XIJV0W4gWBn"
      },
      "execution_count": 43,
      "outputs": []
    },
    {
      "cell_type": "code",
      "source": [
        "list_ages = np.delete(list_ages, slice(5,8), axis=0)"
      ],
      "metadata": {
        "id": "USynEgO9_b_E"
      },
      "execution_count": 44,
      "outputs": []
    },
    {
      "cell_type": "code",
      "source": [
        "print(list_ages)"
      ],
      "metadata": {
        "id": "KSizgt9p-pIe",
        "colab": {
          "base_uri": "https://localhost:8080/"
        },
        "outputId": "54c0a69e-1542-407c-9192-5db21f7431c0"
      },
      "execution_count": 45,
      "outputs": [
        {
          "output_type": "stream",
          "name": "stdout",
          "text": [
            "[18891  9222  6118  3038   958]\n"
          ]
        }
      ]
    },
    {
      "cell_type": "code",
      "source": [
        "plt.figure(figsize=(10,6))\n",
        "colors = ['#54a0ff','#ff6b6b','#ff9ff3','#1dd1a1','#feca57']\n",
        "explode = (0, 0, 0, 0.2, 0.4)\n",
        "\n",
        "labels = ['25-34 ', '35-44', '18-24', '45-54', '55-64']\n",
        "\n",
        "plt.title('Age distribution', fontsize=16, bbox={'facecolor':'0.9' , 'pad': 5})\n",
        "\n",
        "plt.pie(list_ages, labels=labels, colors=colors, explode=explode, autopct='%.1f%%',\n",
        "        textprops={'fontsize': 14}, wedgeprops = {'edgecolor': 'black'}, shadow=True,\n",
        "        pctdistance=0.7)\n",
        "\n",
        "plt.show()"
      ],
      "metadata": {
        "id": "SO34n-RahTfu",
        "colab": {
          "base_uri": "https://localhost:8080/",
          "height": 375
        },
        "outputId": "7410360c-b96c-4151-afcb-8107937439f9"
      },
      "execution_count": 46,
      "outputs": [
        {
          "output_type": "display_data",
          "data": {
            "text/plain": [
              "<Figure size 720x432 with 1 Axes>"
            ],
            "image/png": "[encoded data removed]"
          },
          "metadata": {}
        }
      ]
    },
    {
      "cell_type": "markdown",
      "source": [
        "**5. Relationship between background and salary**"
      ],
      "metadata": {
        "id": "w4y9KFt1PvCv"
      }
    },
    {
      "cell_type": "code",
      "source": [
        "df.EdLevel.value_counts()"
      ],
      "metadata": {
        "id": "SA1LXodQM-uP",
        "colab": {
          "base_uri": "https://localhost:8080/"
        },
        "outputId": "dd806b26-ac32-42c7-e971-e0b6bc17dae0"
      },
      "execution_count": 47,
      "outputs": [
        {
          "output_type": "execute_result",
          "data": {
            "text/plain": [
              "Bachelor’s degree            17907\n",
              "Master’s degree               9891\n",
              "Studying a degree             4960\n",
              "Secondary school              1834\n",
              "Other doctoral degree         1452\n",
              "Associate degree              1229\n",
              "Professional degree            649\n",
              "Something else                 432\n",
              "Primary/elementary school      212\n",
              "Name: EdLevel, dtype: int64"
            ]
          },
          "metadata": {},
          "execution_count": 47
        }
      ]
    },
    {
      "cell_type": "code",
      "source": [
        "df3 = df[['EdLevel', 'ConvertedCompYearly']]\n",
        "df3 = df3.dropna()\n"
      ],
      "metadata": {
        "id": "Cruoo0xpO7B-"
      },
      "execution_count": 48,
      "outputs": []
    },
    {
      "cell_type": "code",
      "source": [
        "df3 = df3.groupby('EdLevel')['ConvertedCompYearly'].mean().sort_values()\n",
        "df3"
      ],
      "metadata": {
        "id": "3O6HMAzINxR4",
        "colab": {
          "base_uri": "https://localhost:8080/"
        },
        "outputId": "980e8745-7ee2-416c-f409-d7e437bd2d72"
      },
      "execution_count": 49,
      "outputs": [
        {
          "output_type": "execute_result",
          "data": {
            "text/plain": [
              "EdLevel\n",
              "Professional degree          48225.098613\n",
              "Something else               51326.523148\n",
              "Secondary school             51603.177754\n",
              "Primary/elementary school    58549.839623\n",
              "Studying a degree            61575.315927\n",
              "Associate degree             66009.198535\n",
              "Bachelor’s degree            66166.277378\n",
              "Master’s degree              68860.363563\n",
              "Other doctoral degree        82597.476584\n",
              "Name: ConvertedCompYearly, dtype: float64"
            ]
          },
          "metadata": {},
          "execution_count": 49
        }
      ]
    },
    {
      "cell_type": "code",
      "source": [
        "plt.figure(figsize=(20,8))\n",
        "plt.ylim([40000,90000])\n",
        "plt.title('Education vs Salary', fontsize=16)\n",
        "plt.ylabel('Yearly Compensation ($)')\n",
        "\n",
        "plt.plot(df3, linewidth=3, color='r', marker='o')\n",
        "\n",
        "plt.show()"
      ],
      "metadata": {
        "id": "pdgoiSOfQuTY",
        "colab": {
          "base_uri": "https://localhost:8080/",
          "height": 501
        },
        "outputId": "bfae24bc-867d-4b42-ce1f-a4b59543acbe"
      },
      "execution_count": 86,
      "outputs": [
        {
          "output_type": "display_data",
          "data": {
            "text/plain": [
              "<Figure size 1440x576 with 1 Axes>"
            ],
            "image/png": "[encoded data removed]"
          },
          "metadata": {
            "needs_background": "light"
          }
        }
      ]
    }
  ]
}