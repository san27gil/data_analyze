{
  "nbformat": 4,
  "nbformat_minor": 0,
  "metadata": {
    "colab": {
      "name": "Stack_overflow_2021_analysis.ipynb",
      "provenance": []
    },
    "kernelspec": {
      "name": "python3",
      "display_name": "Python 3"
    },
    "language_info": {
      "name": "python"
    }
  },
  "cells": [
    {
      "cell_type": "markdown",
      "source": [
        "# LOAD AND CLEAN THE DATA"
      ],
      "metadata": {
        "id": "wrU-Gapi0Rsv"
      }
    },
    {
      "cell_type": "markdown",
      "source": [
        "**Import the libraries**"
      ],
      "metadata": {
        "id": "mvGq8t4R0Et5"
      }
    },
    {
      "cell_type": "code",
      "execution_count": 1,
      "metadata": {
        "id": "5unh-EY7zp3R"
      },
      "outputs": [],
      "source": [
        "import pandas as pd\n",
        "import numpy as np\n",
        "import matplotlib.pyplot as plt\n",
        "import seaborn as sns "
      ]
    },
    {
      "cell_type": "markdown",
      "source": [
        "**Conect with the csv through Google Drive**"
      ],
      "metadata": {
        "id": "T5ubAM-_0Kuf"
      }
    },
    {
      "cell_type": "code",
      "source": [
        "from google.colab import drive\n",
        "drive.mount('/content/drive')"
      ],
      "metadata": {
        "colab": {
          "base_uri": "https://localhost:8080/"
        },
        "id": "iK28qAJ40AGp",
        "outputId": "47fd9eed-71de-4522-d536-b3db727152b8"
      },
      "execution_count": 2,
      "outputs": [
        {
          "output_type": "stream",
          "name": "stdout",
          "text": [
            "Mounted at /content/drive\n"
          ]
        }
      ]
    },
    {
      "cell_type": "code",
      "source": [
        "df=pd.read_csv('/content/drive/MyDrive/From Finance to Programming/Proyectos/Stack Overflow - Data Analysis/survey_results_public_2021.csv',\n",
        "                 index_col=0, thousands='.')"
      ],
      "metadata": {
        "id": "9IxugLb20OXv"
      },
      "execution_count": 3,
      "outputs": []
    },
    {
      "cell_type": "markdown",
      "source": [
        "**Check the table and see how it's organize**"
      ],
      "metadata": {
        "id": "MHiYTLn009jh"
      }
    },
    {
      "cell_type": "code",
      "source": [
        "df.head()"
      ],
      "metadata": {
        "id": "Hj0ZJZ711El-",
        "colab": {
          "base_uri": "https://localhost:8080/",
          "height": 770
        },
        "outputId": "818b5d94-8339-4c23-e4ea-95d4a5c384b9"
      },
      "execution_count": 4,
      "outputs": [
        {
          "output_type": "execute_result",
          "data": {
            "text/plain": [
              "                                                   MainBranch  \\\n",
              "ResponseId                                                      \n",
              "1                              I am a developer by profession   \n",
              "2                      I am a student who is learning to code   \n",
              "3           I am not primarily a developer, but I write co...   \n",
              "4                              I am a developer by profession   \n",
              "5                              I am a developer by profession   \n",
              "\n",
              "                                                   Employment  \\\n",
              "ResponseId                                                      \n",
              "1           Independent contractor, freelancer, or self-em...   \n",
              "2                                          Student, full-time   \n",
              "3                                          Student, full-time   \n",
              "4                                          Employed full-time   \n",
              "5           Independent contractor, freelancer, or self-em...   \n",
              "\n",
              "                                                      Country US_State  \\\n",
              "ResponseId                                                               \n",
              "1                                                    Slovakia      NaN   \n",
              "2                                                 Netherlands      NaN   \n",
              "3                                          Russian Federation      NaN   \n",
              "4                                                     Austria      NaN   \n",
              "5           United Kingdom of Great Britain and Northern I...      NaN   \n",
              "\n",
              "           UK_Country                                            EdLevel  \\\n",
              "ResponseId                                                                 \n",
              "1                 NaN  Secondary school (e.g. American high school, G...   \n",
              "2                 NaN       Bachelor’s degree (B.A., B.S., B.Eng., etc.)   \n",
              "3                 NaN       Bachelor’s degree (B.A., B.S., B.Eng., etc.)   \n",
              "4                 NaN    Master’s degree (M.A., M.S., M.Eng., MBA, etc.)   \n",
              "5             England    Master’s degree (M.A., M.S., M.Eng., MBA, etc.)   \n",
              "\n",
              "               Age1stCode                                          LearnCode  \\\n",
              "ResponseId                                                                     \n",
              "1           18 - 24 years  Coding Bootcamp;Other online resources (ex: vi...   \n",
              "2           11 - 17 years  Other online resources (ex: videos, blogs, etc...   \n",
              "3           11 - 17 years  Other online resources (ex: videos, blogs, etc...   \n",
              "4           11 - 17 years                                                NaN   \n",
              "5            5 - 10 years                            Friend or family member   \n",
              "\n",
              "           YearsCode YearsCodePro  ...              Age Gender Trans  \\\n",
              "ResponseId                         ...                                 \n",
              "1                NaN          NaN  ...  25-34 years old    Man    No   \n",
              "2                  7          NaN  ...  18-24 years old    Man    No   \n",
              "3                NaN          NaN  ...  18-24 years old    Man    No   \n",
              "4                NaN          NaN  ...  35-44 years old    Man    No   \n",
              "5                 17           10  ...  25-34 years old    Man    No   \n",
              "\n",
              "                          Sexuality                     Ethnicity  \\\n",
              "ResponseId                                                          \n",
              "1           Straight / Heterosexual  White or of European descent   \n",
              "2           Straight / Heterosexual  White or of European descent   \n",
              "3                 Prefer not to say             Prefer not to say   \n",
              "4           Straight / Heterosexual  White or of European descent   \n",
              "5                               NaN  White or of European descent   \n",
              "\n",
              "                          Accessibility       MentalHealth  \\\n",
              "ResponseId                                                   \n",
              "1                     None of the above  None of the above   \n",
              "2                     None of the above  None of the above   \n",
              "3                     None of the above  None of the above   \n",
              "4           I am deaf / hard of hearing                NaN   \n",
              "5                     None of the above                NaN   \n",
              "\n",
              "                     SurveyLength                  SurveyEase  \\\n",
              "ResponseId                                                      \n",
              "1           Appropriate in length                        Easy   \n",
              "2           Appropriate in length                        Easy   \n",
              "3           Appropriate in length                        Easy   \n",
              "4           Appropriate in length  Neither easy nor difficult   \n",
              "5           Appropriate in length                        Easy   \n",
              "\n",
              "           ConvertedCompYearly  \n",
              "ResponseId                      \n",
              "1                      62268.0  \n",
              "2                          NaN  \n",
              "3                          NaN  \n",
              "4                          NaN  \n",
              "5                          NaN  \n",
              "\n",
              "[5 rows x 47 columns]"
            ],
            "text/html": [
              "\n",
              "  <div id=\"df-6776c44b-aac5-4638-bc4f-9671a3ddca0f\">\n",
              "    <div class=\"colab-df-container\">\n",
              "      <div>\n",
              "<style scoped>\n",
              "    .dataframe tbody tr th:only-of-type {\n",
              "        vertical-align: middle;\n",
              "    }\n",
              "\n",
              "    .dataframe tbody tr th {\n",
              "        vertical-align: top;\n",
              "    }\n",
              "\n",
              "    .dataframe thead th {\n",
              "        text-align: right;\n",
              "    }\n",
              "</style>\n",
              "<table border=\"1\" class=\"dataframe\">\n",
              "  <thead>\n",
              "    <tr style=\"text-align: right;\">\n",
              "      <th></th>\n",
              "      <th>MainBranch</th>\n",
              "      <th>Employment</th>\n",
              "      <th>Country</th>\n",
              "      <th>US_State</th>\n",
              "      <th>UK_Country</th>\n",
              "      <th>EdLevel</th>\n",
              "      <th>Age1stCode</th>\n",
              "      <th>LearnCode</th>\n",
              "      <th>YearsCode</th>\n",
              "      <th>YearsCodePro</th>\n",
              "      <th>...</th>\n",
              "      <th>Age</th>\n",
              "      <th>Gender</th>\n",
              "      <th>Trans</th>\n",
              "      <th>Sexuality</th>\n",
              "      <th>Ethnicity</th>\n",
              "      <th>Accessibility</th>\n",
              "      <th>MentalHealth</th>\n",
              "      <th>SurveyLength</th>\n",
              "      <th>SurveyEase</th>\n",
              "      <th>ConvertedCompYearly</th>\n",
              "    </tr>\n",
              "    <tr>\n",
              "      <th>ResponseId</th>\n",
              "      <th></th>\n",
              "      <th></th>\n",
              "      <th></th>\n",
              "      <th></th>\n",
              "      <th></th>\n",
              "      <th></th>\n",
              "      <th></th>\n",
              "      <th></th>\n",
              "      <th></th>\n",
              "      <th></th>\n",
              "      <th></th>\n",
              "      <th></th>\n",
              "      <th></th>\n",
              "      <th></th>\n",
              "      <th></th>\n",
              "      <th></th>\n",
              "      <th></th>\n",
              "      <th></th>\n",
              "      <th></th>\n",
              "      <th></th>\n",
              "      <th></th>\n",
              "    </tr>\n",
              "  </thead>\n",
              "  <tbody>\n",
              "    <tr>\n",
              "      <th>1</th>\n",
              "      <td>I am a developer by profession</td>\n",
              "      <td>Independent contractor, freelancer, or self-em...</td>\n",
              "      <td>Slovakia</td>\n",
              "      <td>NaN</td>\n",
              "      <td>NaN</td>\n",
              "      <td>Secondary school (e.g. American high school, G...</td>\n",
              "      <td>18 - 24 years</td>\n",
              "      <td>Coding Bootcamp;Other online resources (ex: vi...</td>\n",
              "      <td>NaN</td>\n",
              "      <td>NaN</td>\n",
              "      <td>...</td>\n",
              "      <td>25-34 years old</td>\n",
              "      <td>Man</td>\n",
              "      <td>No</td>\n",
              "      <td>Straight / Heterosexual</td>\n",
              "      <td>White or of European descent</td>\n",
              "      <td>None of the above</td>\n",
              "      <td>None of the above</td>\n",
              "      <td>Appropriate in length</td>\n",
              "      <td>Easy</td>\n",
              "      <td>62268.0</td>\n",
              "    </tr>\n",
              "    <tr>\n",
              "      <th>2</th>\n",
              "      <td>I am a student who is learning to code</td>\n",
              "      <td>Student, full-time</td>\n",
              "      <td>Netherlands</td>\n",
              "      <td>NaN</td>\n",
              "      <td>NaN</td>\n",
              "      <td>Bachelor’s degree (B.A., B.S., B.Eng., etc.)</td>\n",
              "      <td>11 - 17 years</td>\n",
              "      <td>Other online resources (ex: videos, blogs, etc...</td>\n",
              "      <td>7</td>\n",
              "      <td>NaN</td>\n",
              "      <td>...</td>\n",
              "      <td>18-24 years old</td>\n",
              "      <td>Man</td>\n",
              "      <td>No</td>\n",
              "      <td>Straight / Heterosexual</td>\n",
              "      <td>White or of European descent</td>\n",
              "      <td>None of the above</td>\n",
              "      <td>None of the above</td>\n",
              "      <td>Appropriate in length</td>\n",
              "      <td>Easy</td>\n",
              "      <td>NaN</td>\n",
              "    </tr>\n",
              "    <tr>\n",
              "      <th>3</th>\n",
              "      <td>I am not primarily a developer, but I write co...</td>\n",
              "      <td>Student, full-time</td>\n",
              "      <td>Russian Federation</td>\n",
              "      <td>NaN</td>\n",
              "      <td>NaN</td>\n",
              "      <td>Bachelor’s degree (B.A., B.S., B.Eng., etc.)</td>\n",
              "      <td>11 - 17 years</td>\n",
              "      <td>Other online resources (ex: videos, blogs, etc...</td>\n",
              "      <td>NaN</td>\n",
              "      <td>NaN</td>\n",
              "      <td>...</td>\n",
              "      <td>18-24 years old</td>\n",
              "      <td>Man</td>\n",
              "      <td>No</td>\n",
              "      <td>Prefer not to say</td>\n",
              "      <td>Prefer not to say</td>\n",
              "      <td>None of the above</td>\n",
              "      <td>None of the above</td>\n",
              "      <td>Appropriate in length</td>\n",
              "      <td>Easy</td>\n",
              "      <td>NaN</td>\n",
              "    </tr>\n",
              "    <tr>\n",
              "      <th>4</th>\n",
              "      <td>I am a developer by profession</td>\n",
              "      <td>Employed full-time</td>\n",
              "      <td>Austria</td>\n",
              "      <td>NaN</td>\n",
              "      <td>NaN</td>\n",
              "      <td>Master’s degree (M.A., M.S., M.Eng., MBA, etc.)</td>\n",
              "      <td>11 - 17 years</td>\n",
              "      <td>NaN</td>\n",
              "      <td>NaN</td>\n",
              "      <td>NaN</td>\n",
              "      <td>...</td>\n",
              "      <td>35-44 years old</td>\n",
              "      <td>Man</td>\n",
              "      <td>No</td>\n",
              "      <td>Straight / Heterosexual</td>\n",
              "      <td>White or of European descent</td>\n",
              "      <td>I am deaf / hard of hearing</td>\n",
              "      <td>NaN</td>\n",
              "      <td>Appropriate in length</td>\n",
              "      <td>Neither easy nor difficult</td>\n",
              "      <td>NaN</td>\n",
              "    </tr>\n",
              "    <tr>\n",
              "      <th>5</th>\n",
              "      <td>I am a developer by profession</td>\n",
              "      <td>Independent contractor, freelancer, or self-em...</td>\n",
              "      <td>United Kingdom of Great Britain and Northern I...</td>\n",
              "      <td>NaN</td>\n",
              "      <td>England</td>\n",
              "      <td>Master’s degree (M.A., M.S., M.Eng., MBA, etc.)</td>\n",
              "      <td>5 - 10 years</td>\n",
              "      <td>Friend or family member</td>\n",
              "      <td>17</td>\n",
              "      <td>10</td>\n",
              "      <td>...</td>\n",
              "      <td>25-34 years old</td>\n",
              "      <td>Man</td>\n",
              "      <td>No</td>\n",
              "      <td>NaN</td>\n",
              "      <td>White or of European descent</td>\n",
              "      <td>None of the above</td>\n",
              "      <td>NaN</td>\n",
              "      <td>Appropriate in length</td>\n",
              "      <td>Easy</td>\n",
              "      <td>NaN</td>\n",
              "    </tr>\n",
              "  </tbody>\n",
              "</table>\n",
              "<p>5 rows × 47 columns</p>\n",
              "</div>\n",
              "      <button class=\"colab-df-convert\" onclick=\"convertToInteractive('df-6776c44b-aac5-4638-bc4f-9671a3ddca0f')\"\n",
              "              title=\"Convert this dataframe to an interactive table.\"\n",
              "              style=\"display:none;\">\n",
              "        \n",
              "  <svg xmlns=\"http://www.w3.org/2000/svg\" height=\"24px\"viewBox=\"0 0 24 24\"\n",
              "       width=\"24px\">\n",
              "    <path d=\"M0 0h24v24H0V0z\" fill=\"none\"/>\n",
              "    <path d=\"M18.56 5.44l.94 2.06.94-2.06 2.06-.94-2.06-.94-.94-2.06-.94 2.06-2.06.94zm-11 1L8.5 8.5l.94-2.06 2.06-.94-2.06-.94L8.5 2.5l-.94 2.06-2.06.94zm10 10l.94 2.06.94-2.06 2.06-.94-2.06-.94-.94-2.06-.94 2.06-2.06.94z\"/><path d=\"M17.41 7.96l-1.37-1.37c-.4-.4-.92-.59-1.43-.59-.52 0-1.04.2-1.43.59L10.3 9.45l-7.72 7.72c-.78.78-.78 2.05 0 2.83L4 21.41c.39.39.9.59 1.41.59.51 0 1.02-.2 1.41-.59l7.78-7.78 2.81-2.81c.8-.78.8-2.07 0-2.86zM5.41 20L4 18.59l7.72-7.72 1.47 1.35L5.41 20z\"/>\n",
              "  </svg>\n",
              "      </button>\n",
              "      \n",
              "  <style>\n",
              "    .colab-df-container {\n",
              "      display:flex;\n",
              "      flex-wrap:wrap;\n",
              "      gap: 12px;\n",
              "    }\n",
              "\n",
              "    .colab-df-convert {\n",
              "      background-color: #E8F0FE;\n",
              "      border: none;\n",
              "      border-radius: 50%;\n",
              "      cursor: pointer;\n",
              "      display: none;\n",
              "      fill: #1967D2;\n",
              "      height: 32px;\n",
              "      padding: 0 0 0 0;\n",
              "      width: 32px;\n",
              "    }\n",
              "\n",
              "    .colab-df-convert:hover {\n",
              "      background-color: #E2EBFA;\n",
              "      box-shadow: 0px 1px 2px rgba(60, 64, 67, 0.3), 0px 1px 3px 1px rgba(60, 64, 67, 0.15);\n",
              "      fill: #174EA6;\n",
              "    }\n",
              "\n",
              "    [theme=dark] .colab-df-convert {\n",
              "      background-color: #3B4455;\n",
              "      fill: #D2E3FC;\n",
              "    }\n",
              "\n",
              "    [theme=dark] .colab-df-convert:hover {\n",
              "      background-color: #434B5C;\n",
              "      box-shadow: 0px 1px 3px 1px rgba(0, 0, 0, 0.15);\n",
              "      filter: drop-shadow(0px 1px 2px rgba(0, 0, 0, 0.3));\n",
              "      fill: #FFFFFF;\n",
              "    }\n",
              "  </style>\n",
              "\n",
              "      <script>\n",
              "        const buttonEl =\n",
              "          document.querySelector('#df-6776c44b-aac5-4638-bc4f-9671a3ddca0f button.colab-df-convert');\n",
              "        buttonEl.style.display =\n",
              "          google.colab.kernel.accessAllowed ? 'block' : 'none';\n",
              "\n",
              "        async function convertToInteractive(key) {\n",
              "          const element = document.querySelector('#df-6776c44b-aac5-4638-bc4f-9671a3ddca0f');\n",
              "          const dataTable =\n",
              "            await google.colab.kernel.invokeFunction('convertToInteractive',\n",
              "                                                     [key], {});\n",
              "          if (!dataTable) return;\n",
              "\n",
              "          const docLinkHtml = 'Like what you see? Visit the ' +\n",
              "            '<a target=\"_blank\" href=https://colab.research.google.com/notebooks/data_table.ipynb>data table notebook</a>'\n",
              "            + ' to learn more about interactive tables.';\n",
              "          element.innerHTML = '';\n",
              "          dataTable['output_type'] = 'display_data';\n",
              "          await google.colab.output.renderOutput(dataTable, element);\n",
              "          const docLink = document.createElement('div');\n",
              "          docLink.innerHTML = docLinkHtml;\n",
              "          element.appendChild(docLink);\n",
              "        }\n",
              "      </script>\n",
              "    </div>\n",
              "  </div>\n",
              "  "
            ]
          },
          "metadata": {},
          "execution_count": 4
        }
      ]
    },
    {
      "cell_type": "code",
      "source": [
        "df.shape"
      ],
      "metadata": {
        "id": "-Kr6lcXc1L89",
        "colab": {
          "base_uri": "https://localhost:8080/"
        },
        "outputId": "8c92781d-e5a2-4c09-ccd1-11f20289ff7b"
      },
      "execution_count": 5,
      "outputs": [
        {
          "output_type": "execute_result",
          "data": {
            "text/plain": [
              "(83439, 47)"
            ]
          },
          "metadata": {},
          "execution_count": 5
        }
      ]
    },
    {
      "cell_type": "code",
      "source": [
        "df.info()"
      ],
      "metadata": {
        "id": "mFkjqIqv1QWu",
        "colab": {
          "base_uri": "https://localhost:8080/"
        },
        "outputId": "207fa2b3-881c-4a57-fd27-8bcb6935f62f"
      },
      "execution_count": 6,
      "outputs": [
        {
          "output_type": "stream",
          "name": "stdout",
          "text": [
            "<class 'pandas.core.frame.DataFrame'>\n",
            "Int64Index: 83439 entries, 1 to 83439\n",
            "Data columns (total 47 columns):\n",
            " #   Column                        Non-Null Count  Dtype  \n",
            "---  ------                        --------------  -----  \n",
            " 0   MainBranch                    83439 non-null  object \n",
            " 1   Employment                    83323 non-null  object \n",
            " 2   Country                       83439 non-null  object \n",
            " 3   US_State                      14920 non-null  object \n",
            " 4   UK_Country                    4418 non-null   object \n",
            " 5   EdLevel                       83126 non-null  object \n",
            " 6   Age1stCode                    83243 non-null  object \n",
            " 7   LearnCode                     82963 non-null  object \n",
            " 8   YearsCode                     81641 non-null  object \n",
            " 9   YearsCodePro                  61216 non-null  object \n",
            " 10  DevType                       66484 non-null  object \n",
            " 11  OrgSize                       60726 non-null  object \n",
            " 12  Currency                      61080 non-null  object \n",
            " 13  CompTotal                     47183 non-null  float64\n",
            " 14  CompFreq                      52150 non-null  object \n",
            " 15  LanguageHaveWorkedWith        82357 non-null  object \n",
            " 16  LanguageWantToWorkWith        76821 non-null  object \n",
            " 17  DatabaseHaveWorkedWith        69546 non-null  object \n",
            " 18  DatabaseWantToWorkWith        58299 non-null  object \n",
            " 19  PlatformHaveWorkedWith        52135 non-null  object \n",
            " 20  PlatformWantToWorkWith        41619 non-null  object \n",
            " 21  WebframeHaveWorkedWith        61707 non-null  object \n",
            " 22  WebframeWantToWorkWith        52095 non-null  object \n",
            " 23  MiscTechHaveWorkedWith        47055 non-null  object \n",
            " 24  MiscTechWantToWorkWith        38021 non-null  object \n",
            " 25  ToolsTechHaveWorkedWith       72537 non-null  object \n",
            " 26  ToolsTechWantToWorkWith       65480 non-null  object \n",
            " 27  NEWCollabToolsHaveWorkedWith  81234 non-null  object \n",
            " 28  NEWCollabToolsWantToWorkWith  73022 non-null  object \n",
            " 29  OpSys                         83294 non-null  object \n",
            " 30  NEWStuck                      83052 non-null  object \n",
            " 31  NEWSOSites                    83171 non-null  object \n",
            " 32  SOVisitFreq                   82413 non-null  object \n",
            " 33  SOAccount                     82525 non-null  object \n",
            " 34  SOPartFreq                    67553 non-null  object \n",
            " 35  SOComm                        82319 non-null  object \n",
            " 36  NEWOtherComms                 82828 non-null  object \n",
            " 37  Age                           82407 non-null  object \n",
            " 38  Gender                        82286 non-null  object \n",
            " 39  Trans                         80678 non-null  object \n",
            " 40  Sexuality                     73366 non-null  object \n",
            " 41  Ethnicity                     79464 non-null  object \n",
            " 42  Accessibility                 77603 non-null  object \n",
            " 43  MentalHealth                  76920 non-null  object \n",
            " 44  SurveyLength                  81711 non-null  object \n",
            " 45  SurveyEase                    81948 non-null  object \n",
            " 46  ConvertedCompYearly           46844 non-null  float64\n",
            "dtypes: float64(2), object(45)\n",
            "memory usage: 30.6+ MB\n"
          ]
        }
      ]
    },
    {
      "cell_type": "markdown",
      "source": [
        "**Clean the data**"
      ],
      "metadata": {
        "id": "jKyjsCgT1e0h"
      }
    },
    {
      "cell_type": "code",
      "source": [
        "df.drop_duplicates(inplace=True)"
      ],
      "metadata": {
        "id": "c-5HGRTU1jON"
      },
      "execution_count": 7,
      "outputs": []
    },
    {
      "cell_type": "code",
      "source": [
        "df.dropna(how='all')"
      ],
      "metadata": {
        "id": "jySEQ4Nf4no2",
        "colab": {
          "base_uri": "https://localhost:8080/",
          "height": 1000
        },
        "outputId": "0167e69b-ceaf-4e66-cdfc-d23272aede9f"
      },
      "execution_count": 8,
      "outputs": [
        {
          "output_type": "execute_result",
          "data": {
            "text/plain": [
              "                                                   MainBranch  \\\n",
              "ResponseId                                                      \n",
              "1                              I am a developer by profession   \n",
              "2                      I am a student who is learning to code   \n",
              "3           I am not primarily a developer, but I write co...   \n",
              "4                              I am a developer by profession   \n",
              "5                              I am a developer by profession   \n",
              "...                                                       ...   \n",
              "83435                          I am a developer by profession   \n",
              "83436                          I am a developer by profession   \n",
              "83437                          I am a developer by profession   \n",
              "83438                          I am a developer by profession   \n",
              "83439                          I am a developer by profession   \n",
              "\n",
              "                                                   Employment  \\\n",
              "ResponseId                                                      \n",
              "1           Independent contractor, freelancer, or self-em...   \n",
              "2                                          Student, full-time   \n",
              "3                                          Student, full-time   \n",
              "4                                          Employed full-time   \n",
              "5           Independent contractor, freelancer, or self-em...   \n",
              "...                                                       ...   \n",
              "83435                                      Employed full-time   \n",
              "83436       Independent contractor, freelancer, or self-em...   \n",
              "83437                                      Employed full-time   \n",
              "83438                                      Employed full-time   \n",
              "83439                                      Employed full-time   \n",
              "\n",
              "                                                      Country    US_State  \\\n",
              "ResponseId                                                                  \n",
              "1                                                    Slovakia         NaN   \n",
              "2                                                 Netherlands         NaN   \n",
              "3                                          Russian Federation         NaN   \n",
              "4                                                     Austria         NaN   \n",
              "5           United Kingdom of Great Britain and Northern I...         NaN   \n",
              "...                                                       ...         ...   \n",
              "83435                                United States of America       Texas   \n",
              "83436                                                   Benin         NaN   \n",
              "83437                                United States of America  New Jersey   \n",
              "83438                                                  Canada         NaN   \n",
              "83439                                                  Brazil         NaN   \n",
              "\n",
              "           UK_Country                                            EdLevel  \\\n",
              "ResponseId                                                                 \n",
              "1                 NaN  Secondary school (e.g. American high school, G...   \n",
              "2                 NaN       Bachelor’s degree (B.A., B.S., B.Eng., etc.)   \n",
              "3                 NaN       Bachelor’s degree (B.A., B.S., B.Eng., etc.)   \n",
              "4                 NaN    Master’s degree (M.A., M.S., M.Eng., MBA, etc.)   \n",
              "5             England    Master’s degree (M.A., M.S., M.Eng., MBA, etc.)   \n",
              "...               ...                                                ...   \n",
              "83435             NaN       Bachelor’s degree (B.A., B.S., B.Eng., etc.)   \n",
              "83436             NaN       Bachelor’s degree (B.A., B.S., B.Eng., etc.)   \n",
              "83437             NaN  Secondary school (e.g. American high school, G...   \n",
              "83438             NaN       Bachelor’s degree (B.A., B.S., B.Eng., etc.)   \n",
              "83439             NaN                 Professional degree (JD, MD, etc.)   \n",
              "\n",
              "               Age1stCode                                          LearnCode  \\\n",
              "ResponseId                                                                     \n",
              "1           18 - 24 years  Coding Bootcamp;Other online resources (ex: vi...   \n",
              "2           11 - 17 years  Other online resources (ex: videos, blogs, etc...   \n",
              "3           11 - 17 years  Other online resources (ex: videos, blogs, etc...   \n",
              "4           11 - 17 years                                                NaN   \n",
              "5            5 - 10 years                            Friend or family member   \n",
              "...                   ...                                                ...   \n",
              "83435       11 - 17 years  Other online resources (ex: videos, blogs, etc...   \n",
              "83436       11 - 17 years  Other online resources (ex: videos, blogs, etc...   \n",
              "83437       11 - 17 years                                             School   \n",
              "83438       11 - 17 years  Online Courses or Certification;Books / Physic...   \n",
              "83439       11 - 17 years                                             School   \n",
              "\n",
              "           YearsCode YearsCodePro  ...              Age Gender Trans  \\\n",
              "ResponseId                         ...                                 \n",
              "1                NaN          NaN  ...  25-34 years old    Man    No   \n",
              "2                  7          NaN  ...  18-24 years old    Man    No   \n",
              "3                NaN          NaN  ...  18-24 years old    Man    No   \n",
              "4                NaN          NaN  ...  35-44 years old    Man    No   \n",
              "5                 17           10  ...  25-34 years old    Man    No   \n",
              "...              ...          ...  ...              ...    ...   ...   \n",
              "83435              6            5  ...  25-34 years old    Man    No   \n",
              "83436              4            2  ...  18-24 years old    Man    No   \n",
              "83437             10            4  ...  25-34 years old    Man    No   \n",
              "83438              5            3  ...  25-34 years old    Man    No   \n",
              "83439             14            4  ...  18-24 years old    Man    No   \n",
              "\n",
              "                          Sexuality                     Ethnicity  \\\n",
              "ResponseId                                                          \n",
              "1           Straight / Heterosexual  White or of European descent   \n",
              "2           Straight / Heterosexual  White or of European descent   \n",
              "3                 Prefer not to say             Prefer not to say   \n",
              "4           Straight / Heterosexual  White or of European descent   \n",
              "5                               NaN  White or of European descent   \n",
              "...                             ...                           ...   \n",
              "83435       Straight / Heterosexual  White or of European descent   \n",
              "83436       Straight / Heterosexual   Black or of African descent   \n",
              "83437                           NaN  White or of European descent   \n",
              "83438       Straight / Heterosexual  White or of European descent   \n",
              "83439       Straight / Heterosexual        Hispanic or Latino/a/x   \n",
              "\n",
              "                          Accessibility  \\\n",
              "ResponseId                                \n",
              "1                     None of the above   \n",
              "2                     None of the above   \n",
              "3                     None of the above   \n",
              "4           I am deaf / hard of hearing   \n",
              "5                     None of the above   \n",
              "...                                 ...   \n",
              "83435                 None of the above   \n",
              "83436                 None of the above   \n",
              "83437                 None of the above   \n",
              "83438                 None of the above   \n",
              "83439                 None of the above   \n",
              "\n",
              "                                                 MentalHealth  \\\n",
              "ResponseId                                                      \n",
              "1                                           None of the above   \n",
              "2                                           None of the above   \n",
              "3                                           None of the above   \n",
              "4                                                         NaN   \n",
              "5                                                         NaN   \n",
              "...                                                       ...   \n",
              "83435       I have a concentration and/or memory disorder ...   \n",
              "83436                                       None of the above   \n",
              "83437                                       None of the above   \n",
              "83438       I have a mood or emotional disorder (e.g. depr...   \n",
              "83439                                       None of the above   \n",
              "\n",
              "                     SurveyLength                  SurveyEase  \\\n",
              "ResponseId                                                      \n",
              "1           Appropriate in length                        Easy   \n",
              "2           Appropriate in length                        Easy   \n",
              "3           Appropriate in length                        Easy   \n",
              "4           Appropriate in length  Neither easy nor difficult   \n",
              "5           Appropriate in length                        Easy   \n",
              "...                           ...                         ...   \n",
              "83435       Appropriate in length                        Easy   \n",
              "83436       Appropriate in length                        Easy   \n",
              "83437       Appropriate in length  Neither easy nor difficult   \n",
              "83438       Appropriate in length  Neither easy nor difficult   \n",
              "83439       Appropriate in length                        Easy   \n",
              "\n",
              "           ConvertedCompYearly  \n",
              "ResponseId                      \n",
              "1                      62268.0  \n",
              "2                          NaN  \n",
              "3                          NaN  \n",
              "4                          NaN  \n",
              "5                          NaN  \n",
              "...                        ...  \n",
              "83435                 160500.0  \n",
              "83436                   3960.0  \n",
              "83437                  90000.0  \n",
              "83438                 816816.0  \n",
              "83439                  21168.0  \n",
              "\n",
              "[83438 rows x 47 columns]"
            ],
            "text/html": [
              "\n",
              "  <div id=\"df-8b587165-3eea-4fb9-bfb2-b7245bd8cb78\">\n",
              "    <div class=\"colab-df-container\">\n",
              "      <div>\n",
              "<style scoped>\n",
              "    .dataframe tbody tr th:only-of-type {\n",
              "        vertical-align: middle;\n",
              "    }\n",
              "\n",
              "    .dataframe tbody tr th {\n",
              "        vertical-align: top;\n",
              "    }\n",
              "\n",
              "    .dataframe thead th {\n",
              "        text-align: right;\n",
              "    }\n",
              "</style>\n",
              "<table border=\"1\" class=\"dataframe\">\n",
              "  <thead>\n",
              "    <tr style=\"text-align: right;\">\n",
              "      <th></th>\n",
              "      <th>MainBranch</th>\n",
              "      <th>Employment</th>\n",
              "      <th>Country</th>\n",
              "      <th>US_State</th>\n",
              "      <th>UK_Country</th>\n",
              "      <th>EdLevel</th>\n",
              "      <th>Age1stCode</th>\n",
              "      <th>LearnCode</th>\n",
              "      <th>YearsCode</th>\n",
              "      <th>YearsCodePro</th>\n",
              "      <th>...</th>\n",
              "      <th>Age</th>\n",
              "      <th>Gender</th>\n",
              "      <th>Trans</th>\n",
              "      <th>Sexuality</th>\n",
              "      <th>Ethnicity</th>\n",
              "      <th>Accessibility</th>\n",
              "      <th>MentalHealth</th>\n",
              "      <th>SurveyLength</th>\n",
              "      <th>SurveyEase</th>\n",
              "      <th>ConvertedCompYearly</th>\n",
              "    </tr>\n",
              "    <tr>\n",
              "      <th>ResponseId</th>\n",
              "      <th></th>\n",
              "      <th></th>\n",
              "      <th></th>\n",
              "      <th></th>\n",
              "      <th></th>\n",
              "      <th></th>\n",
              "      <th></th>\n",
              "      <th></th>\n",
              "      <th></th>\n",
              "      <th></th>\n",
              "      <th></th>\n",
              "      <th></th>\n",
              "      <th></th>\n",
              "      <th></th>\n",
              "      <th></th>\n",
              "      <th></th>\n",
              "      <th></th>\n",
              "      <th></th>\n",
              "      <th></th>\n",
              "      <th></th>\n",
              "      <th></th>\n",
              "    </tr>\n",
              "  </thead>\n",
              "  <tbody>\n",
              "    <tr>\n",
              "      <th>1</th>\n",
              "      <td>I am a developer by profession</td>\n",
              "      <td>Independent contractor, freelancer, or self-em...</td>\n",
              "      <td>Slovakia</td>\n",
              "      <td>NaN</td>\n",
              "      <td>NaN</td>\n",
              "      <td>Secondary school (e.g. American high school, G...</td>\n",
              "      <td>18 - 24 years</td>\n",
              "      <td>Coding Bootcamp;Other online resources (ex: vi...</td>\n",
              "      <td>NaN</td>\n",
              "      <td>NaN</td>\n",
              "      <td>...</td>\n",
              "      <td>25-34 years old</td>\n",
              "      <td>Man</td>\n",
              "      <td>No</td>\n",
              "      <td>Straight / Heterosexual</td>\n",
              "      <td>White or of European descent</td>\n",
              "      <td>None of the above</td>\n",
              "      <td>None of the above</td>\n",
              "      <td>Appropriate in length</td>\n",
              "      <td>Easy</td>\n",
              "      <td>62268.0</td>\n",
              "    </tr>\n",
              "    <tr>\n",
              "      <th>2</th>\n",
              "      <td>I am a student who is learning to code</td>\n",
              "      <td>Student, full-time</td>\n",
              "      <td>Netherlands</td>\n",
              "      <td>NaN</td>\n",
              "      <td>NaN</td>\n",
              "      <td>Bachelor’s degree (B.A., B.S., B.Eng., etc.)</td>\n",
              "      <td>11 - 17 years</td>\n",
              "      <td>Other online resources (ex: videos, blogs, etc...</td>\n",
              "      <td>7</td>\n",
              "      <td>NaN</td>\n",
              "      <td>...</td>\n",
              "      <td>18-24 years old</td>\n",
              "      <td>Man</td>\n",
              "      <td>No</td>\n",
              "      <td>Straight / Heterosexual</td>\n",
              "      <td>White or of European descent</td>\n",
              "      <td>None of the above</td>\n",
              "      <td>None of the above</td>\n",
              "      <td>Appropriate in length</td>\n",
              "      <td>Easy</td>\n",
              "      <td>NaN</td>\n",
              "    </tr>\n",
              "    <tr>\n",
              "      <th>3</th>\n",
              "      <td>I am not primarily a developer, but I write co...</td>\n",
              "      <td>Student, full-time</td>\n",
              "      <td>Russian Federation</td>\n",
              "      <td>NaN</td>\n",
              "      <td>NaN</td>\n",
              "      <td>Bachelor’s degree (B.A., B.S., B.Eng., etc.)</td>\n",
              "      <td>11 - 17 years</td>\n",
              "      <td>Other online resources (ex: videos, blogs, etc...</td>\n",
              "      <td>NaN</td>\n",
              "      <td>NaN</td>\n",
              "      <td>...</td>\n",
              "      <td>18-24 years old</td>\n",
              "      <td>Man</td>\n",
              "      <td>No</td>\n",
              "      <td>Prefer not to say</td>\n",
              "      <td>Prefer not to say</td>\n",
              "      <td>None of the above</td>\n",
              "      <td>None of the above</td>\n",
              "      <td>Appropriate in length</td>\n",
              "      <td>Easy</td>\n",
              "      <td>NaN</td>\n",
              "    </tr>\n",
              "    <tr>\n",
              "      <th>4</th>\n",
              "      <td>I am a developer by profession</td>\n",
              "      <td>Employed full-time</td>\n",
              "      <td>Austria</td>\n",
              "      <td>NaN</td>\n",
              "      <td>NaN</td>\n",
              "      <td>Master’s degree (M.A., M.S., M.Eng., MBA, etc.)</td>\n",
              "      <td>11 - 17 years</td>\n",
              "      <td>NaN</td>\n",
              "      <td>NaN</td>\n",
              "      <td>NaN</td>\n",
              "      <td>...</td>\n",
              "      <td>35-44 years old</td>\n",
              "      <td>Man</td>\n",
              "      <td>No</td>\n",
              "      <td>Straight / Heterosexual</td>\n",
              "      <td>White or of European descent</td>\n",
              "      <td>I am deaf / hard of hearing</td>\n",
              "      <td>NaN</td>\n",
              "      <td>Appropriate in length</td>\n",
              "      <td>Neither easy nor difficult</td>\n",
              "      <td>NaN</td>\n",
              "    </tr>\n",
              "    <tr>\n",
              "      <th>5</th>\n",
              "      <td>I am a developer by profession</td>\n",
              "      <td>Independent contractor, freelancer, or self-em...</td>\n",
              "      <td>United Kingdom of Great Britain and Northern I...</td>\n",
              "      <td>NaN</td>\n",
              "      <td>England</td>\n",
              "      <td>Master’s degree (M.A., M.S., M.Eng., MBA, etc.)</td>\n",
              "      <td>5 - 10 years</td>\n",
              "      <td>Friend or family member</td>\n",
              "      <td>17</td>\n",
              "      <td>10</td>\n",
              "      <td>...</td>\n",
              "      <td>25-34 years old</td>\n",
              "      <td>Man</td>\n",
              "      <td>No</td>\n",
              "      <td>NaN</td>\n",
              "      <td>White or of European descent</td>\n",
              "      <td>None of the above</td>\n",
              "      <td>NaN</td>\n",
              "      <td>Appropriate in length</td>\n",
              "      <td>Easy</td>\n",
              "      <td>NaN</td>\n",
              "    </tr>\n",
              "    <tr>\n",
              "      <th>...</th>\n",
              "      <td>...</td>\n",
              "      <td>...</td>\n",
              "      <td>...</td>\n",
              "      <td>...</td>\n",
              "      <td>...</td>\n",
              "      <td>...</td>\n",
              "      <td>...</td>\n",
              "      <td>...</td>\n",
              "      <td>...</td>\n",
              "      <td>...</td>\n",
              "      <td>...</td>\n",
              "      <td>...</td>\n",
              "      <td>...</td>\n",
              "      <td>...</td>\n",
              "      <td>...</td>\n",
              "      <td>...</td>\n",
              "      <td>...</td>\n",
              "      <td>...</td>\n",
              "      <td>...</td>\n",
              "      <td>...</td>\n",
              "      <td>...</td>\n",
              "    </tr>\n",
              "    <tr>\n",
              "      <th>83435</th>\n",
              "      <td>I am a developer by profession</td>\n",
              "      <td>Employed full-time</td>\n",
              "      <td>United States of America</td>\n",
              "      <td>Texas</td>\n",
              "      <td>NaN</td>\n",
              "      <td>Bachelor’s degree (B.A., B.S., B.Eng., etc.)</td>\n",
              "      <td>11 - 17 years</td>\n",
              "      <td>Other online resources (ex: videos, blogs, etc...</td>\n",
              "      <td>6</td>\n",
              "      <td>5</td>\n",
              "      <td>...</td>\n",
              "      <td>25-34 years old</td>\n",
              "      <td>Man</td>\n",
              "      <td>No</td>\n",
              "      <td>Straight / Heterosexual</td>\n",
              "      <td>White or of European descent</td>\n",
              "      <td>None of the above</td>\n",
              "      <td>I have a concentration and/or memory disorder ...</td>\n",
              "      <td>Appropriate in length</td>\n",
              "      <td>Easy</td>\n",
              "      <td>160500.0</td>\n",
              "    </tr>\n",
              "    <tr>\n",
              "      <th>83436</th>\n",
              "      <td>I am a developer by profession</td>\n",
              "      <td>Independent contractor, freelancer, or self-em...</td>\n",
              "      <td>Benin</td>\n",
              "      <td>NaN</td>\n",
              "      <td>NaN</td>\n",
              "      <td>Bachelor’s degree (B.A., B.S., B.Eng., etc.)</td>\n",
              "      <td>11 - 17 years</td>\n",
              "      <td>Other online resources (ex: videos, blogs, etc...</td>\n",
              "      <td>4</td>\n",
              "      <td>2</td>\n",
              "      <td>...</td>\n",
              "      <td>18-24 years old</td>\n",
              "      <td>Man</td>\n",
              "      <td>No</td>\n",
              "      <td>Straight / Heterosexual</td>\n",
              "      <td>Black or of African descent</td>\n",
              "      <td>None of the above</td>\n",
              "      <td>None of the above</td>\n",
              "      <td>Appropriate in length</td>\n",
              "      <td>Easy</td>\n",
              "      <td>3960.0</td>\n",
              "    </tr>\n",
              "    <tr>\n",
              "      <th>83437</th>\n",
              "      <td>I am a developer by profession</td>\n",
              "      <td>Employed full-time</td>\n",
              "      <td>United States of America</td>\n",
              "      <td>New Jersey</td>\n",
              "      <td>NaN</td>\n",
              "      <td>Secondary school (e.g. American high school, G...</td>\n",
              "      <td>11 - 17 years</td>\n",
              "      <td>School</td>\n",
              "      <td>10</td>\n",
              "      <td>4</td>\n",
              "      <td>...</td>\n",
              "      <td>25-34 years old</td>\n",
              "      <td>Man</td>\n",
              "      <td>No</td>\n",
              "      <td>NaN</td>\n",
              "      <td>White or of European descent</td>\n",
              "      <td>None of the above</td>\n",
              "      <td>None of the above</td>\n",
              "      <td>Appropriate in length</td>\n",
              "      <td>Neither easy nor difficult</td>\n",
              "      <td>90000.0</td>\n",
              "    </tr>\n",
              "    <tr>\n",
              "      <th>83438</th>\n",
              "      <td>I am a developer by profession</td>\n",
              "      <td>Employed full-time</td>\n",
              "      <td>Canada</td>\n",
              "      <td>NaN</td>\n",
              "      <td>NaN</td>\n",
              "      <td>Bachelor’s degree (B.A., B.S., B.Eng., etc.)</td>\n",
              "      <td>11 - 17 years</td>\n",
              "      <td>Online Courses or Certification;Books / Physic...</td>\n",
              "      <td>5</td>\n",
              "      <td>3</td>\n",
              "      <td>...</td>\n",
              "      <td>25-34 years old</td>\n",
              "      <td>Man</td>\n",
              "      <td>No</td>\n",
              "      <td>Straight / Heterosexual</td>\n",
              "      <td>White or of European descent</td>\n",
              "      <td>None of the above</td>\n",
              "      <td>I have a mood or emotional disorder (e.g. depr...</td>\n",
              "      <td>Appropriate in length</td>\n",
              "      <td>Neither easy nor difficult</td>\n",
              "      <td>816816.0</td>\n",
              "    </tr>\n",
              "    <tr>\n",
              "      <th>83439</th>\n",
              "      <td>I am a developer by profession</td>\n",
              "      <td>Employed full-time</td>\n",
              "      <td>Brazil</td>\n",
              "      <td>NaN</td>\n",
              "      <td>NaN</td>\n",
              "      <td>Professional degree (JD, MD, etc.)</td>\n",
              "      <td>11 - 17 years</td>\n",
              "      <td>School</td>\n",
              "      <td>14</td>\n",
              "      <td>4</td>\n",
              "      <td>...</td>\n",
              "      <td>18-24 years old</td>\n",
              "      <td>Man</td>\n",
              "      <td>No</td>\n",
              "      <td>Straight / Heterosexual</td>\n",
              "      <td>Hispanic or Latino/a/x</td>\n",
              "      <td>None of the above</td>\n",
              "      <td>None of the above</td>\n",
              "      <td>Appropriate in length</td>\n",
              "      <td>Easy</td>\n",
              "      <td>21168.0</td>\n",
              "    </tr>\n",
              "  </tbody>\n",
              "</table>\n",
              "<p>83438 rows × 47 columns</p>\n",
              "</div>\n",
              "      <button class=\"colab-df-convert\" onclick=\"convertToInteractive('df-8b587165-3eea-4fb9-bfb2-b7245bd8cb78')\"\n",
              "              title=\"Convert this dataframe to an interactive table.\"\n",
              "              style=\"display:none;\">\n",
              "        \n",
              "  <svg xmlns=\"http://www.w3.org/2000/svg\" height=\"24px\"viewBox=\"0 0 24 24\"\n",
              "       width=\"24px\">\n",
              "    <path d=\"M0 0h24v24H0V0z\" fill=\"none\"/>\n",
              "    <path d=\"M18.56 5.44l.94 2.06.94-2.06 2.06-.94-2.06-.94-.94-2.06-.94 2.06-2.06.94zm-11 1L8.5 8.5l.94-2.06 2.06-.94-2.06-.94L8.5 2.5l-.94 2.06-2.06.94zm10 10l.94 2.06.94-2.06 2.06-.94-2.06-.94-.94-2.06-.94 2.06-2.06.94z\"/><path d=\"M17.41 7.96l-1.37-1.37c-.4-.4-.92-.59-1.43-.59-.52 0-1.04.2-1.43.59L10.3 9.45l-7.72 7.72c-.78.78-.78 2.05 0 2.83L4 21.41c.39.39.9.59 1.41.59.51 0 1.02-.2 1.41-.59l7.78-7.78 2.81-2.81c.8-.78.8-2.07 0-2.86zM5.41 20L4 18.59l7.72-7.72 1.47 1.35L5.41 20z\"/>\n",
              "  </svg>\n",
              "      </button>\n",
              "      \n",
              "  <style>\n",
              "    .colab-df-container {\n",
              "      display:flex;\n",
              "      flex-wrap:wrap;\n",
              "      gap: 12px;\n",
              "    }\n",
              "\n",
              "    .colab-df-convert {\n",
              "      background-color: #E8F0FE;\n",
              "      border: none;\n",
              "      border-radius: 50%;\n",
              "      cursor: pointer;\n",
              "      display: none;\n",
              "      fill: #1967D2;\n",
              "      height: 32px;\n",
              "      padding: 0 0 0 0;\n",
              "      width: 32px;\n",
              "    }\n",
              "\n",
              "    .colab-df-convert:hover {\n",
              "      background-color: #E2EBFA;\n",
              "      box-shadow: 0px 1px 2px rgba(60, 64, 67, 0.3), 0px 1px 3px 1px rgba(60, 64, 67, 0.15);\n",
              "      fill: #174EA6;\n",
              "    }\n",
              "\n",
              "    [theme=dark] .colab-df-convert {\n",
              "      background-color: #3B4455;\n",
              "      fill: #D2E3FC;\n",
              "    }\n",
              "\n",
              "    [theme=dark] .colab-df-convert:hover {\n",
              "      background-color: #434B5C;\n",
              "      box-shadow: 0px 1px 3px 1px rgba(0, 0, 0, 0.15);\n",
              "      filter: drop-shadow(0px 1px 2px rgba(0, 0, 0, 0.3));\n",
              "      fill: #FFFFFF;\n",
              "    }\n",
              "  </style>\n",
              "\n",
              "      <script>\n",
              "        const buttonEl =\n",
              "          document.querySelector('#df-8b587165-3eea-4fb9-bfb2-b7245bd8cb78 button.colab-df-convert');\n",
              "        buttonEl.style.display =\n",
              "          google.colab.kernel.accessAllowed ? 'block' : 'none';\n",
              "\n",
              "        async function convertToInteractive(key) {\n",
              "          const element = document.querySelector('#df-8b587165-3eea-4fb9-bfb2-b7245bd8cb78');\n",
              "          const dataTable =\n",
              "            await google.colab.kernel.invokeFunction('convertToInteractive',\n",
              "                                                     [key], {});\n",
              "          if (!dataTable) return;\n",
              "\n",
              "          const docLinkHtml = 'Like what you see? Visit the ' +\n",
              "            '<a target=\"_blank\" href=https://colab.research.google.com/notebooks/data_table.ipynb>data table notebook</a>'\n",
              "            + ' to learn more about interactive tables.';\n",
              "          element.innerHTML = '';\n",
              "          dataTable['output_type'] = 'display_data';\n",
              "          await google.colab.output.renderOutput(dataTable, element);\n",
              "          const docLink = document.createElement('div');\n",
              "          docLink.innerHTML = docLinkHtml;\n",
              "          element.appendChild(docLink);\n",
              "        }\n",
              "      </script>\n",
              "    </div>\n",
              "  </div>\n",
              "  "
            ]
          },
          "metadata": {},
          "execution_count": 8
        }
      ]
    },
    {
      "cell_type": "markdown",
      "source": [
        "**% of null values per column and drop these with more than 55% of null values**"
      ],
      "metadata": {
        "id": "9IuIDTv81yfQ"
      }
    },
    {
      "cell_type": "code",
      "source": [
        "df.isnull().sum()/df.shape[0]"
      ],
      "metadata": {
        "id": "wcAbTg1O1nt-",
        "colab": {
          "base_uri": "https://localhost:8080/"
        },
        "outputId": "0ae692d1-7257-4b0a-ddbb-986f8cc05a0e"
      },
      "execution_count": 9,
      "outputs": [
        {
          "output_type": "execute_result",
          "data": {
            "text/plain": [
              "MainBranch                      0.000000\n",
              "Employment                      0.001390\n",
              "Country                         0.000000\n",
              "US_State                        0.821185\n",
              "UK_Country                      0.947051\n",
              "EdLevel                         0.003751\n",
              "Age1stCode                      0.002349\n",
              "LearnCode                       0.005705\n",
              "YearsCode                       0.021549\n",
              "YearsCodePro                    0.266329\n",
              "DevType                         0.203193\n",
              "OrgSize                         0.272202\n",
              "Currency                        0.267959\n",
              "CompTotal                       0.434514\n",
              "CompFreq                        0.374985\n",
              "LanguageHaveWorkedWith          0.012968\n",
              "LanguageWantToWorkWith          0.079316\n",
              "DatabaseHaveWorkedWith          0.166495\n",
              "DatabaseWantToWorkWith          0.301290\n",
              "PlatformHaveWorkedWith          0.375165\n",
              "PlatformWantToWorkWith          0.501198\n",
              "WebframeHaveWorkedWith          0.260445\n",
              "WebframeWantToWorkWith          0.375644\n",
              "MiscTechHaveWorkedWith          0.436060\n",
              "MiscTechWantToWorkWith          0.544332\n",
              "ToolsTechHaveWorkedWith         0.130648\n",
              "ToolsTechWantToWorkWith         0.215226\n",
              "NEWCollabToolsHaveWorkedWith    0.026427\n",
              "NEWCollabToolsWantToWorkWith    0.124847\n",
              "OpSys                           0.001738\n",
              "NEWStuck                        0.004638\n",
              "NEWSOSites                      0.003212\n",
              "SOVisitFreq                     0.012297\n",
              "SOAccount                       0.010954\n",
              "SOPartFreq                      0.190393\n",
              "SOComm                          0.013423\n",
              "NEWOtherComms                   0.007323\n",
              "Age                             0.012368\n",
              "Gender                          0.013819\n",
              "Trans                           0.033090\n",
              "Sexuality                       0.120724\n",
              "Ethnicity                       0.047640\n",
              "Accessibility                   0.069944\n",
              "MentalHealth                    0.078130\n",
              "SurveyLength                    0.020710\n",
              "SurveyEase                      0.017870\n",
              "ConvertedCompYearly             0.438577\n",
              "dtype: float64"
            ]
          },
          "metadata": {},
          "execution_count": 9
        }
      ]
    },
    {
      "cell_type": "code",
      "source": [
        "limit = len(df)*0.55\n",
        "df.dropna(thresh=limit, axis=1, inplace=True)"
      ],
      "metadata": {
        "id": "U25ecv8W16zg"
      },
      "execution_count": 10,
      "outputs": []
    },
    {
      "cell_type": "markdown",
      "source": [
        "**Drop these columns that are not relevant for this analysis**"
      ],
      "metadata": {
        "id": "o5h4bsqZ2QhH"
      }
    },
    {
      "cell_type": "code",
      "source": [
        "to_drop = ['Age1stCode', 'OrgSize', 'MiscTechHaveWorkedWith', 'WebframeHaveWorkedWith', 'WebframeWantToWorkWith', \n",
        "           'NEWCollabToolsWantToWorkWith', 'NEWOtherComms', 'Trans', 'Sexuality', 'Ethnicity', 'Accessibility', \n",
        "           'MentalHealth', 'SurveyLength', 'SurveyEase']\n",
        "df.drop(to_drop, inplace=True, axis=1)"
      ],
      "metadata": {
        "id": "F-GEATWY2ZnK"
      },
      "execution_count": 11,
      "outputs": []
    },
    {
      "cell_type": "markdown",
      "source": [
        "**Improve data types.**"
      ],
      "metadata": {
        "id": "ncAoBKF22mRG"
      }
    },
    {
      "cell_type": "code",
      "source": [
        "df.dtypes"
      ],
      "metadata": {
        "id": "tGeFy9c32-p-",
        "colab": {
          "base_uri": "https://localhost:8080/"
        },
        "outputId": "4d66a1e9-a69f-4fbd-ce31-443fb793dd75"
      },
      "execution_count": 12,
      "outputs": [
        {
          "output_type": "execute_result",
          "data": {
            "text/plain": [
              "MainBranch                       object\n",
              "Employment                       object\n",
              "Country                          object\n",
              "EdLevel                          object\n",
              "LearnCode                        object\n",
              "YearsCode                        object\n",
              "YearsCodePro                     object\n",
              "DevType                          object\n",
              "Currency                         object\n",
              "CompTotal                       float64\n",
              "CompFreq                         object\n",
              "LanguageHaveWorkedWith           object\n",
              "LanguageWantToWorkWith           object\n",
              "DatabaseHaveWorkedWith           object\n",
              "DatabaseWantToWorkWith           object\n",
              "PlatformHaveWorkedWith           object\n",
              "ToolsTechHaveWorkedWith          object\n",
              "ToolsTechWantToWorkWith          object\n",
              "NEWCollabToolsHaveWorkedWith     object\n",
              "OpSys                            object\n",
              "NEWStuck                         object\n",
              "NEWSOSites                       object\n",
              "SOVisitFreq                      object\n",
              "SOAccount                        object\n",
              "SOPartFreq                       object\n",
              "SOComm                           object\n",
              "Age                              object\n",
              "Gender                           object\n",
              "ConvertedCompYearly             float64\n",
              "dtype: object"
            ]
          },
          "metadata": {},
          "execution_count": 12
        }
      ]
    },
    {
      "cell_type": "code",
      "source": [
        "df['YearsCode'] =  df['YearsCode'].apply(pd.to_numeric, errors='coerce')\n",
        "df['YearsCodePro'] =  df['YearsCodePro'].apply(pd.to_numeric, errors='coerce')"
      ],
      "metadata": {
        "id": "XNNaSs4u2t3a"
      },
      "execution_count": 13,
      "outputs": []
    },
    {
      "cell_type": "code",
      "source": [
        "df.dtypes"
      ],
      "metadata": {
        "id": "OpJlyVK024bC",
        "colab": {
          "base_uri": "https://localhost:8080/"
        },
        "outputId": "c17af4bd-fd80-4925-ba09-5defecc1031c"
      },
      "execution_count": 14,
      "outputs": [
        {
          "output_type": "execute_result",
          "data": {
            "text/plain": [
              "MainBranch                       object\n",
              "Employment                       object\n",
              "Country                          object\n",
              "EdLevel                          object\n",
              "LearnCode                        object\n",
              "YearsCode                       float64\n",
              "YearsCodePro                    float64\n",
              "DevType                          object\n",
              "Currency                         object\n",
              "CompTotal                       float64\n",
              "CompFreq                         object\n",
              "LanguageHaveWorkedWith           object\n",
              "LanguageWantToWorkWith           object\n",
              "DatabaseHaveWorkedWith           object\n",
              "DatabaseWantToWorkWith           object\n",
              "PlatformHaveWorkedWith           object\n",
              "ToolsTechHaveWorkedWith          object\n",
              "ToolsTechWantToWorkWith          object\n",
              "NEWCollabToolsHaveWorkedWith     object\n",
              "OpSys                            object\n",
              "NEWStuck                         object\n",
              "NEWSOSites                       object\n",
              "SOVisitFreq                      object\n",
              "SOAccount                        object\n",
              "SOPartFreq                       object\n",
              "SOComm                           object\n",
              "Age                              object\n",
              "Gender                           object\n",
              "ConvertedCompYearly             float64\n",
              "dtype: object"
            ]
          },
          "metadata": {},
          "execution_count": 14
        }
      ]
    },
    {
      "cell_type": "markdown",
      "source": [
        "**Drop outliers from dataset**"
      ],
      "metadata": {
        "id": "PlGzm9zO3-IR"
      }
    },
    {
      "cell_type": "code",
      "source": [
        "plt.hist(df['CompTotal'])\n",
        "plt.show()"
      ],
      "metadata": {
        "id": "xN2GCe7z4U90",
        "colab": {
          "base_uri": "https://localhost:8080/",
          "height": 278
        },
        "outputId": "a008690b-3760-40b2-8281-d4ea582c0f36"
      },
      "execution_count": 15,
      "outputs": [
        {
          "output_type": "display_data",
          "data": {
            "text/plain": [
              "<Figure size 432x288 with 1 Axes>"
            ],
            "image/png": "[encoded data removed]"
          },
          "metadata": {
            "needs_background": "light"
          }
        }
      ]
    },
    {
      "cell_type": "code",
      "source": [
        "Q1 = df['CompTotal'].quantile(0.25)\n",
        "Q3 = df['CompTotal'].quantile(0.75)\n",
        "IQR = Q3 - Q1\n",
        "lower_limit = (Q1 - 1.5 * IQR)\n",
        "upper_limit = (Q3 + 1.5 * IQR)"
      ],
      "metadata": {
        "id": "rlTB2p5E4Bym"
      },
      "execution_count": 16,
      "outputs": []
    },
    {
      "cell_type": "code",
      "source": [
        "df = df[(df['CompTotal'] >= lower_limit) & (df['CompTotal'] <= upper_limit)]"
      ],
      "metadata": {
        "id": "XAz5850l4HyX"
      },
      "execution_count": 17,
      "outputs": []
    },
    {
      "cell_type": "code",
      "source": [
        "plt.hist(df['CompTotal'])\n",
        "plt.show()"
      ],
      "metadata": {
        "id": "PtnvJVQd4byO",
        "colab": {
          "base_uri": "https://localhost:8080/",
          "height": 265
        },
        "outputId": "e0eed66d-d576-446b-e5f3-6e080ef3e3c9"
      },
      "execution_count": 18,
      "outputs": [
        {
          "output_type": "display_data",
          "data": {
            "text/plain": [
              "<Figure size 432x288 with 1 Axes>"
            ],
            "image/png": "[encoded data removed]"
          },
          "metadata": {
            "needs_background": "light"
          }
        }
      ]
    },
    {
      "cell_type": "code",
      "source": [
        "Q1 = df['ConvertedCompYearly'].quantile(0.25)\n",
        "Q3 = df['ConvertedCompYearly'].quantile(0.75)\n",
        "IQR = Q3 - Q1\n",
        "lower_limit = (Q1 - 1.5 * IQR)\n",
        "upper_limit = (Q3 + 1.5 * IQR)"
      ],
      "metadata": {
        "id": "iGT0COIZ_ULT"
      },
      "execution_count": 19,
      "outputs": []
    },
    {
      "cell_type": "code",
      "source": [
        "df = df[(df['ConvertedCompYearly'] >= lower_limit) & (df['ConvertedCompYearly'] <= upper_limit)]"
      ],
      "metadata": {
        "id": "IUig-gI0_gDE"
      },
      "execution_count": 20,
      "outputs": []
    },
    {
      "cell_type": "markdown",
      "source": [
        "**Improve some group names**"
      ],
      "metadata": {
        "id": "SA-Npaee40p7"
      }
    },
    {
      "cell_type": "code",
      "source": [
        "df.Country.unique()"
      ],
      "metadata": {
        "id": "k-5pS9xu4_S5",
        "colab": {
          "base_uri": "https://localhost:8080/"
        },
        "outputId": "a72c9e69-14e3-46b1-9a32-dca23f33240b"
      },
      "execution_count": 21,
      "outputs": [
        {
          "output_type": "execute_result",
          "data": {
            "text/plain": [
              "array(['Slovakia', 'Sweden', 'Spain', 'Germany', 'Turkey', 'Canada',\n",
              "       'Singapore', 'France', 'Switzerland',\n",
              "       'United Kingdom of Great Britain and Northern Ireland',\n",
              "       'Russian Federation', 'Israel', 'Ukraine',\n",
              "       'United States of America', 'Brazil', 'Bulgaria', 'Greece',\n",
              "       'Italy', 'Netherlands', 'Poland', 'Pakistan', 'Nigeria', 'Albania',\n",
              "       'Bangladesh', 'Austria', 'Viet Nam', 'Romania', 'Sri Lanka',\n",
              "       'India', 'Lithuania', 'Slovenia', 'Croatia', 'Georgia', 'Ireland',\n",
              "       'Bahrain', 'Egypt', 'Colombia', 'Australia', 'Belgium', 'Portugal',\n",
              "       'Denmark', 'Armenia', 'Finland', 'Argentina', 'Costa Rica',\n",
              "       'Iran, Islamic Republic of...', 'Peru', 'United Arab Emirates',\n",
              "       'Bolivia', 'South Africa', 'Serbia', 'Malta', 'Malaysia',\n",
              "       'Czech Republic', 'Belarus', 'Kenya', 'Uruguay',\n",
              "       'The former Yugoslav Republic of Macedonia', 'Botswana', 'Algeria',\n",
              "       'Mexico', 'Cyprus', 'Hungary',\n",
              "       'Venezuela, Bolivarian Republic of...', 'Jordan',\n",
              "       'Dominican Republic', 'Ecuador', 'Luxembourg', 'Uzbekistan',\n",
              "       'Syrian Arab Republic', 'Zambia', 'Taiwan', 'Tunisia', 'Japan',\n",
              "       'China', 'Paraguay', 'Morocco', 'Guatemala', 'Cameroon',\n",
              "       'Republic of Moldova', 'Nepal', 'Estonia', 'Ethiopia', 'Cuba',\n",
              "       'Latvia', 'Lebanon', 'Democratic Republic of the Congo', 'Somalia',\n",
              "       'Philippines', 'Norway', 'Azerbaijan', 'Saudi Arabia', 'Honduras',\n",
              "       'Thailand', 'Bosnia and Herzegovina', 'Iceland', 'El Salvador',\n",
              "       'Iraq', 'Kosovo', 'Andorra', 'New Zealand', 'Dominica', 'Chile',\n",
              "       'Nicaragua', 'Trinidad and Tobago', 'Nomadic', 'Panama',\n",
              "       'Barbados', 'Mauritius', 'Yemen', 'Kuwait', 'Gambia', 'Ghana',\n",
              "       'Congo, Republic of the...', 'Mauritania', 'Hong Kong (S.A.R.)',\n",
              "       'South Korea', 'Cambodia', 'Kyrgyzstan', 'Kazakhstan',\n",
              "       'Afghanistan', 'Rwanda', 'Swaziland', 'Saint Kitts and Nevis',\n",
              "       'Monaco', 'Myanmar', 'Turkmenistan', 'Libyan Arab Jamahiriya',\n",
              "       'Sudan', 'Montenegro', 'Isle of Man', 'Qatar', 'Haiti', 'Belize',\n",
              "       'Benin', 'Bhutan', 'Palestine', 'Republic of Korea', 'Indonesia',\n",
              "       'Tajikistan', 'United Republic of Tanzania', 'Angola',\n",
              "       'Cape Verde', 'Oman', 'Uganda', \"Lao People's Democratic Republic\",\n",
              "       'Zimbabwe', 'Jamaica', 'Guyana', \"Côte d'Ivoire\", 'Namibia',\n",
              "       'Lesotho', 'Mozambique', 'Liberia', 'Togo', 'Senegal', 'Suriname',\n",
              "       'Niger', 'Maldives', 'Madagascar', 'Saint Lucia', 'Malawi',\n",
              "       'Saint Vincent and the Grenadines', 'Fiji', 'Burundi'],\n",
              "      dtype=object)"
            ]
          },
          "metadata": {},
          "execution_count": 21
        }
      ]
    },
    {
      "cell_type": "code",
      "source": [
        "df['Country'].replace(['United Kingdom of Great Britain and Northern Ireland', 'Russian Federation', \n",
        "                       'Hong Kong (S.A.R.)', 'Venezuela, Bolivarian Republic of...', 'Congo, Republic of the...',\n",
        "                       'United States of America'], ['UK', 'Russia', 'Hong Kong', 'Venezuela', 'Congo', 'USA'],\n",
        "                       inplace=True)"
      ],
      "metadata": {
        "id": "G_pvlUT15BdJ",
        "colab": {
          "base_uri": "https://localhost:8080/"
        },
        "outputId": "f5f52c01-a90c-4816-dc7e-2e8e98eb7168"
      },
      "execution_count": 22,
      "outputs": [
        {
          "output_type": "stream",
          "name": "stderr",
          "text": [
            "/usr/local/lib/python3.7/dist-packages/pandas/core/generic.py:6619: SettingWithCopyWarning: \n",
            "A value is trying to be set on a copy of a slice from a DataFrame\n",
            "\n",
            "See the caveats in the documentation: https://pandas.pydata.org/pandas-docs/stable/user_guide/indexing.html#returning-a-view-versus-a-copy\n",
            "  return self._update_inplace(result)\n"
          ]
        }
      ]
    },
    {
      "cell_type": "code",
      "source": [
        "df.EdLevel.unique()"
      ],
      "metadata": {
        "id": "BLnEUrz_TCXJ",
        "colab": {
          "base_uri": "https://localhost:8080/"
        },
        "outputId": "3f413e9a-026c-4478-87db-8e73a982c444"
      },
      "execution_count": 23,
      "outputs": [
        {
          "output_type": "execute_result",
          "data": {
            "text/plain": [
              "array(['Secondary school (e.g. American high school, German Realschule or Gymnasium, etc.)',\n",
              "       'Master’s degree (M.A., M.S., M.Eng., MBA, etc.)',\n",
              "       'Bachelor’s degree (B.A., B.S., B.Eng., etc.)',\n",
              "       'Other doctoral degree (Ph.D., Ed.D., etc.)',\n",
              "       'Some college/university study without earning a degree',\n",
              "       'Professional degree (JD, MD, etc.)',\n",
              "       'Associate degree (A.A., A.S., etc.)', 'Something else',\n",
              "       'Primary/elementary school', nan], dtype=object)"
            ]
          },
          "metadata": {},
          "execution_count": 23
        }
      ]
    },
    {
      "cell_type": "code",
      "source": [
        "df['EdLevel'].replace(['Associate degree (A.A., A.S., etc.)', 'Bachelor’s degree (B.A., B.S., B.Eng., etc.)',\n",
        "                       'Master’s degree (M.A., M.S., M.Eng., MBA, etc.)', 'Other doctoral degree (Ph.D., Ed.D., etc.)',\n",
        "                       'Professional degree (JD, MD, etc.)',\n",
        "                       'Secondary school (e.g. American high school, German Realschule or Gymnasium, etc.)',\n",
        "                       'Some college/university study without earning a degree'],\n",
        "                       ['Associate degree', 'Bachelor’s degree', 'Master’s degree','Other doctoral degree',\n",
        "                        'Professional degree', 'Secondary school', 'Studying a degree'], inplace=True)"
      ],
      "metadata": {
        "id": "icKhs_M-5IEH"
      },
      "execution_count": 24,
      "outputs": []
    },
    {
      "cell_type": "code",
      "source": [
        "df['Currency'].replace(['EUR European Euro', 'GBP\\tPound sterling', 'USD\\tUnited States dollar',\n",
        "                        'CAD\\tCanadian dollar', 'SEK\\tSwedish krona', 'TRY\\tTurkish lira', 'CHF\\tSwiss franc',\n",
        "                        'RUB\\tRussian ruble', 'INR\\tIndian rupee', 'BRL\\tBrazilian real', 'AUD\\tAustralian dollar'],\n",
        "                       ['EUR', 'GBP', 'USD', 'CAD', 'SEK', 'TRY', 'CHF', 'RUB', 'INR', 'BRL', 'AUD'], inplace=True)"
      ],
      "metadata": {
        "id": "bUxTE2Rc5MQb"
      },
      "execution_count": 25,
      "outputs": []
    },
    {
      "cell_type": "code",
      "source": [
        "df['Age'].replace(['18-24 years old', '25-34 years old', '35-44 years old', '45-54 years old', '55-64 years old',\n",
        "                   '65 years or older', 'Under 18 years old'], ['18-24', '25-34', '35-44', '45-54', '55-64', '>65',\n",
        "                                                                '<18'], inplace=True)"
      ],
      "metadata": {
        "id": "HiUfTYVM7DrY"
      },
      "execution_count": 26,
      "outputs": []
    },
    {
      "cell_type": "markdown",
      "source": [
        "# DATA ANALYSIS"
      ],
      "metadata": {
        "id": "vOA4tAHi7dep"
      }
    },
    {
      "cell_type": "markdown",
      "source": [
        "**1. Which countries have the best salaries?**"
      ],
      "metadata": {
        "id": "ITBdOen17h4l"
      }
    },
    {
      "cell_type": "code",
      "source": [
        "df1 = df[['Country', 'ConvertedCompYearly']]"
      ],
      "metadata": {
        "id": "E5WLiVvu8ZzO"
      },
      "execution_count": 27,
      "outputs": []
    },
    {
      "cell_type": "code",
      "source": [
        "df1.dropna(inplace=True)"
      ],
      "metadata": {
        "id": "6J2F1NHn8dSy",
        "colab": {
          "base_uri": "https://localhost:8080/"
        },
        "outputId": "6e5bf842-ac5d-48ce-c96d-2fa080eb6c30"
      },
      "execution_count": 28,
      "outputs": [
        {
          "output_type": "stream",
          "name": "stderr",
          "text": [
            "/usr/local/lib/python3.7/dist-packages/pandas/util/_decorators.py:311: SettingWithCopyWarning: \n",
            "A value is trying to be set on a copy of a slice from a DataFrame\n",
            "\n",
            "See the caveats in the documentation: https://pandas.pydata.org/pandas-docs/stable/user_guide/indexing.html#returning-a-view-versus-a-copy\n",
            "  return func(*args, **kwargs)\n"
          ]
        }
      ]
    },
    {
      "cell_type": "code",
      "source": [
        "filter1 = df1.groupby('Country').mean().sort_values('ConvertedCompYearly', ascending=False)"
      ],
      "metadata": {
        "id": "NszV070w8gSv"
      },
      "execution_count": 29,
      "outputs": []
    },
    {
      "cell_type": "code",
      "source": [
        "graph1 = filter1[:5].plot(kind='bar', title='Top countries by salary', ylim=[80000, 120000], figsize=(10,6),\n",
        "                          fontsize=12, rot=0)\n",
        "\n",
        "plt.show()"
      ],
      "metadata": {
        "id": "_yIxFiRWTEzh",
        "colab": {
          "base_uri": "https://localhost:8080/",
          "height": 407
        },
        "outputId": "84355f5e-00b9-4443-ca1a-b7f3a9d06c80"
      },
      "execution_count": 30,
      "outputs": [
        {
          "output_type": "display_data",
          "data": {
            "text/plain": [
              "<Figure size 720x432 with 1 Axes>"
            ],
            "image/png": "[encoded data removed]"
          },
          "metadata": {
            "needs_background": "light"
          }
        }
      ]
    },
    {
      "cell_type": "markdown",
      "source": [
        "**2. Graph of the european salaries**"
      ],
      "metadata": {
        "id": "gx3txs6y9MUd"
      }
    },
    {
      "cell_type": "code",
      "source": [
        "list_europe = ['Austria', 'Belgium', 'Bulgaria', 'Croatia', 'Cyprus', 'Czech Republic', \n",
        "               'Denmark', 'Estonia', 'Finland', 'France', 'Germany', 'Greece', 'Hungary',\n",
        "               'Ireland', 'Italy', 'Latvia', 'Lithuania', 'Luxembourg', 'Malta', 'Netherlands', \n",
        "               'Poland', 'Portugal', 'Romania', 'Slovakia', 'Slovenia', 'Spain', 'Sweden']"
      ],
      "metadata": {
        "id": "PcL4gXfP9c2h"
      },
      "execution_count": 31,
      "outputs": []
    },
    {
      "cell_type": "code",
      "source": [
        "filter2 = df1.groupby('Country').mean().sort_values('ConvertedCompYearly', ascending=False).reset_index()"
      ],
      "metadata": {
        "id": "bM7t2lbd9ybs"
      },
      "execution_count": 32,
      "outputs": []
    },
    {
      "cell_type": "code",
      "source": [
        "filter2 = filter2.loc[filter2['Country'].isin(list_europe)]\n"
      ],
      "metadata": {
        "id": "6qAYgiSq97LH"
      },
      "execution_count": 33,
      "outputs": []
    },
    {
      "cell_type": "code",
      "source": [
        "plt.figure(figsize=(16,6))\n",
        "plt.xticks(rotation=90)\n",
        "plt.ylim([20000,90000])\n",
        "\n",
        "plt.bar(filter2.Country, filter2.ConvertedCompYearly, width=0.5)\n",
        "plt.show()"
      ],
      "metadata": {
        "colab": {
          "base_uri": "https://localhost:8080/",
          "height": 444
        },
        "id": "Lh1SEYFn9_y0",
        "outputId": "6ba565ed-e234-402d-b765-a2f7ca5c8c5e"
      },
      "execution_count": 34,
      "outputs": [
        {
          "output_type": "display_data",
          "data": {
            "text/plain": [
              "<Figure size 1152x432 with 1 Axes>"
            ],
            "image/png": "[encoded data removed]"
          },
          "metadata": {
            "needs_background": "light"
          }
        }
      ]
    },
    {
      "cell_type": "markdown",
      "source": [
        "**3. Compare how Spain and USA use the differents op. systems**"
      ],
      "metadata": {
        "id": "mURMUUJfAQMK"
      }
    },
    {
      "cell_type": "code",
      "source": [
        "df2 = df[['Country', 'OpSys']]"
      ],
      "metadata": {
        "id": "R3r9gNJfArVB"
      },
      "execution_count": 53,
      "outputs": []
    },
    {
      "cell_type": "code",
      "source": [
        "df2['OpSys'].unique()"
      ],
      "metadata": {
        "colab": {
          "base_uri": "https://localhost:8080/"
        },
        "id": "dCMe4wsXAx6x",
        "outputId": "74c75f87-b0b2-4c42-d28f-3dd648dc3274"
      },
      "execution_count": 54,
      "outputs": [
        {
          "output_type": "execute_result",
          "data": {
            "text/plain": [
              "array(['MacOS', 'Linux-based', 'Windows', 'Other (please specify):',\n",
              "       'BSD', 'Windows Subsystem for Linux (WSL)', nan], dtype=object)"
            ]
          },
          "metadata": {},
          "execution_count": 54
        }
      ]
    },
    {
      "cell_type": "code",
      "source": [
        "df2.shape"
      ],
      "metadata": {
        "id": "5aYsmcG1A0gg",
        "colab": {
          "base_uri": "https://localhost:8080/"
        },
        "outputId": "63f53249-d96e-4946-f1df-9a3e9855d012"
      },
      "execution_count": 55,
      "outputs": [
        {
          "output_type": "execute_result",
          "data": {
            "text/plain": [
              "(38580, 2)"
            ]
          },
          "metadata": {},
          "execution_count": 55
        }
      ]
    },
    {
      "cell_type": "markdown",
      "source": [
        "Drop null values in this new data frame:"
      ],
      "metadata": {
        "id": "6SFM-AhTDEAN"
      }
    },
    {
      "cell_type": "code",
      "source": [
        "df2.dropna(inplace=True)"
      ],
      "metadata": {
        "id": "CMWCLU55A41E",
        "colab": {
          "base_uri": "https://localhost:8080/"
        },
        "outputId": "498fb14f-dc3d-4af7-98ce-5ce41435fe82"
      },
      "execution_count": 56,
      "outputs": [
        {
          "output_type": "stream",
          "name": "stderr",
          "text": [
            "/usr/local/lib/python3.7/dist-packages/pandas/util/_decorators.py:311: SettingWithCopyWarning: \n",
            "A value is trying to be set on a copy of a slice from a DataFrame\n",
            "\n",
            "See the caveats in the documentation: https://pandas.pydata.org/pandas-docs/stable/user_guide/indexing.html#returning-a-view-versus-a-copy\n",
            "  return func(*args, **kwargs)\n"
          ]
        }
      ]
    },
    {
      "cell_type": "code",
      "source": [
        "df2.shape"
      ],
      "metadata": {
        "id": "bxkMRL7KA51a",
        "colab": {
          "base_uri": "https://localhost:8080/"
        },
        "outputId": "b44d0a12-c119-43d1-b637-6fa78a1ed8fa"
      },
      "execution_count": 57,
      "outputs": [
        {
          "output_type": "execute_result",
          "data": {
            "text/plain": [
              "(38566, 2)"
            ]
          },
          "metadata": {},
          "execution_count": 57
        }
      ]
    },
    {
      "cell_type": "markdown",
      "source": [
        "Group by operating system:"
      ],
      "metadata": {
        "id": "cfWok5W4DLGZ"
      }
    },
    {
      "cell_type": "code",
      "source": [
        "windows = df2[(df2['OpSys'] == 'Windows')]\n",
        "mac = df2[(df2['OpSys'] == 'MacOS')]\n",
        "other = df2[(df2['OpSys'] != 'Windows') & (df2['OpSys'] != 'MacOS')]"
      ],
      "metadata": {
        "id": "oM4kLT_VA9Ic"
      },
      "execution_count": 58,
      "outputs": []
    },
    {
      "cell_type": "markdown",
      "source": [
        "Count number of each:"
      ],
      "metadata": {
        "id": "moZHyKfaDRB9"
      }
    },
    {
      "cell_type": "code",
      "source": [
        "win_spa = len(windows[(windows['Country'] == 'Spain')])\n",
        "mac_spa = len(mac[(mac['Country'] == 'Spain')])\n",
        "oth_spa = len(other[(other['Country'] == 'Spain')])\n",
        "win_usa = len(windows[(windows['Country'] == 'USA')])\n",
        "mac_usa = len(mac[(mac['Country'] == 'USA')])\n",
        "oth_usa = len(other[(other['Country'] == 'USA')])"
      ],
      "metadata": {
        "id": "UE-b141_CM5I"
      },
      "execution_count": 59,
      "outputs": []
    },
    {
      "cell_type": "code",
      "source": [
        "fig, axs = plt.subplots(1,2, figsize=(12,8))\n",
        "\n",
        "labels = ['Windows', 'Mac', 'Other']\n",
        "colors = ['#FFD32D', '#45B39D', '#EF6D6D']\n",
        "\n",
        "axs[0].pie([win_spa, mac_spa, oth_spa], labels = labels, colors = colors, autopct='%.1f%%',\n",
        "        startangle = 90, wedgeprops = {'edgecolor': 'black'}, shadow=True,)\n",
        "axs[0].set_title('O.S. in Spain', bbox={'facecolor':'0.9' , 'pad': 5})\n",
        "\n",
        "axs[1].pie([win_usa, mac_usa, oth_usa], labels = labels, colors = colors, autopct='%.1f%%',\n",
        "       startangle = 90, wedgeprops = {'edgecolor': 'black'}, shadow=True,)\n",
        "axs[1].set_title('O.S. in USA', bbox={'facecolor':'0.9' , 'pad': 5})\n",
        "\n",
        "\n",
        "plt.show()"
      ],
      "metadata": {
        "id": "ESwuOZ3lCQsO",
        "colab": {
          "base_uri": "https://localhost:8080/",
          "height": 351
        },
        "outputId": "efbcb3ca-3e8f-431e-e040-61d7e7f23611"
      },
      "execution_count": 64,
      "outputs": [
        {
          "output_type": "display_data",
          "data": {
            "text/plain": [
              "<Figure size 864x576 with 2 Axes>"
            ],
            "image/png": "[encoded data removed]"
          },
          "metadata": {}
        }
      ]
    },
    {
      "cell_type": "markdown",
      "source": [
        "**4. Age distribution**"
      ],
      "metadata": {
        "id": "6NO8jnzsDn1U"
      }
    },
    {
      "cell_type": "code",
      "source": [
        "df.Age.value_counts()"
      ],
      "metadata": {
        "id": "aHI1gJIZDvW0",
        "colab": {
          "base_uri": "https://localhost:8080/"
        },
        "outputId": "f4e2fd34-489e-4645-e2c4-1a41f0a7922e"
      },
      "execution_count": 43,
      "outputs": [
        {
          "output_type": "execute_result",
          "data": {
            "text/plain": [
              "25-34                18891\n",
              "35-44                 9222\n",
              "18-24                 6118\n",
              "45-54                 3038\n",
              "55-64                  958\n",
              ">65                    129\n",
              "<18                     86\n",
              "Prefer not to say       52\n",
              "Name: Age, dtype: int64"
            ]
          },
          "metadata": {},
          "execution_count": 43
        }
      ]
    },
    {
      "cell_type": "code",
      "source": [
        "list_ages = df.Age.value_counts().values"
      ],
      "metadata": {
        "id": "-XIJV0W4gWBn"
      },
      "execution_count": 44,
      "outputs": []
    },
    {
      "cell_type": "code",
      "source": [
        "list_ages = np.delete(list_ages, slice(5,8), axis=0)"
      ],
      "metadata": {
        "id": "USynEgO9_b_E"
      },
      "execution_count": 45,
      "outputs": []
    },
    {
      "cell_type": "code",
      "source": [
        "print(list_ages)"
      ],
      "metadata": {
        "id": "KSizgt9p-pIe",
        "colab": {
          "base_uri": "https://localhost:8080/"
        },
        "outputId": "778616e3-5e21-4c4a-a15f-32732d3c74b8"
      },
      "execution_count": 46,
      "outputs": [
        {
          "output_type": "stream",
          "name": "stdout",
          "text": [
            "[18891  9222  6118  3038   958]\n"
          ]
        }
      ]
    },
    {
      "cell_type": "code",
      "source": [
        "plt.figure(figsize=(10,6))\n",
        "colors = ['#54a0ff','#ff6b6b','#ff9ff3','#1dd1a1','#feca57']\n",
        "explode = (0, 0, 0.1, 0.2, 0.4)\n",
        "\n",
        "labels = ['25-34 ', '35-44', '18-24', '45-54', '55-64']\n",
        "\n",
        "plt.title('Age distribution', fontsize=16, bbox={'facecolor':'0.9' , 'pad': 5})\n",
        "\n",
        "plt.pie(list_ages, labels=labels, colors=colors, explode=explode, autopct='%.1f%%',\n",
        "        textprops={'fontsize': 14}, wedgeprops = {'edgecolor': 'black'}, shadow=True,\n",
        "        pctdistance=0.7)\n",
        "\n",
        "plt.show()"
      ],
      "metadata": {
        "id": "SO34n-RahTfu",
        "colab": {
          "base_uri": "https://localhost:8080/",
          "height": 375
        },
        "outputId": "db197a3a-1051-4038-9802-2d20ea3cca28"
      },
      "execution_count": 65,
      "outputs": [
        {
          "output_type": "display_data",
          "data": {
            "text/plain": [
              "<Figure size 720x432 with 1 Axes>"
            ],
            "image/png": "[encoded data removed]"
          },
          "metadata": {}
        }
      ]
    },
    {
      "cell_type": "markdown",
      "source": [
        "**5. Relationship between background and salary**"
      ],
      "metadata": {
        "id": "w4y9KFt1PvCv"
      }
    },
    {
      "cell_type": "code",
      "source": [
        "df.EdLevel.value_counts()"
      ],
      "metadata": {
        "id": "SA1LXodQM-uP",
        "colab": {
          "base_uri": "https://localhost:8080/"
        },
        "outputId": "91813618-0941-4c6f-ac75-b5956a7596f2"
      },
      "execution_count": 48,
      "outputs": [
        {
          "output_type": "execute_result",
          "data": {
            "text/plain": [
              "Bachelor’s degree            17907\n",
              "Master’s degree               9891\n",
              "Studying a degree             4960\n",
              "Secondary school              1834\n",
              "Other doctoral degree         1452\n",
              "Associate degree              1229\n",
              "Professional degree            649\n",
              "Something else                 432\n",
              "Primary/elementary school      212\n",
              "Name: EdLevel, dtype: int64"
            ]
          },
          "metadata": {},
          "execution_count": 48
        }
      ]
    },
    {
      "cell_type": "code",
      "source": [
        "df3 = df[['EdLevel', 'ConvertedCompYearly']]\n",
        "df3 = df3.dropna()\n"
      ],
      "metadata": {
        "id": "Cruoo0xpO7B-"
      },
      "execution_count": 49,
      "outputs": []
    },
    {
      "cell_type": "code",
      "source": [
        "df3 = df3.groupby('EdLevel')['ConvertedCompYearly'].mean().sort_values()\n",
        "df3"
      ],
      "metadata": {
        "id": "3O6HMAzINxR4",
        "colab": {
          "base_uri": "https://localhost:8080/"
        },
        "outputId": "b48f6bbf-b7f9-45f6-e2ff-75a10b00ecee"
      },
      "execution_count": 50,
      "outputs": [
        {
          "output_type": "execute_result",
          "data": {
            "text/plain": [
              "EdLevel\n",
              "Professional degree          48225.098613\n",
              "Something else               51326.523148\n",
              "Secondary school             51603.177754\n",
              "Primary/elementary school    58549.839623\n",
              "Studying a degree            61575.315927\n",
              "Associate degree             66009.198535\n",
              "Bachelor’s degree            66166.277378\n",
              "Master’s degree              68860.363563\n",
              "Other doctoral degree        82597.476584\n",
              "Name: ConvertedCompYearly, dtype: float64"
            ]
          },
          "metadata": {},
          "execution_count": 50
        }
      ]
    },
    {
      "cell_type": "code",
      "source": [
        "plt.figure(figsize=(16,8))\n",
        "plt.ylim([40000,90000])\n",
        "plt.xticks(rotation=45)\n",
        "plt.title('Education vs Salary', fontsize=16)\n",
        "plt.ylabel('Yearly Compensation ($)')\n",
        "\n",
        "plt.plot(df3, linewidth=3, color='r', marker='o')\n",
        "\n",
        "plt.show()"
      ],
      "metadata": {
        "id": "pdgoiSOfQuTY",
        "colab": {
          "base_uri": "https://localhost:8080/",
          "height": 593
        },
        "outputId": "03e38688-752c-47f4-f955-bde055607f58"
      },
      "execution_count": 68,
      "outputs": [
        {
          "output_type": "display_data",
          "data": {
            "text/plain": [
              "<Figure size 1152x576 with 1 Axes>"
            ],
            "image/png": "[encoded data removed]"
          },
          "metadata": {
            "needs_background": "light"
          }
        }
      ]
    }
  ]
}